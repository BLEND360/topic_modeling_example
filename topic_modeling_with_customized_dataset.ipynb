{
 "cells": [
  {
   "cell_type": "markdown",
   "id": "91f46300",
   "metadata": {},
   "source": [
    "# Introduction\n",
    "\n",
    "This notebook contains code to run 4 topic models using Amazon review sample data. For each model we intend to compare keywords outputed from models with default parameters or tuned numbers of topics. We also report model performance using coherence scores if applicables. The four models included 1) LDA, 2) NMF, 3) Top2Vec, and 4) BERTopic"
   ]
  },
  {
   "cell_type": "code",
   "execution_count": 1,
   "id": "caf9f68c",
   "metadata": {},
   "outputs": [],
   "source": [
    "# !pip install pyLDAvis\n",
    "# !pip install top2vec[sentence_encoders]\n",
    "# !pip install top2vec[sentence_transformers]\n",
    "# !pip install top2vec[indexing]\n",
    "# !pip install top2vec\n",
    "# !pip install tensorflow tensorflow_hub tensorflow_text"
   ]
  },
  {
   "cell_type": "code",
   "execution_count": 5,
   "id": "2b552c24",
   "metadata": {},
   "outputs": [],
   "source": [
    "import logging\n",
    "import spacy\n",
    "import warnings\n",
    "\n",
    "# Set the logging level to suppress warnings\n",
    "logging.getLogger(\"spacy\").setLevel(logging.ERROR)\n",
    "warnings.filterwarnings(\"ignore\", message=\"distutils Version classes are deprecated.*\")\n",
    "logging.basicConfig(level=logging.WARNING)\n",
    "\n",
    "# Create a custom filter class to exclude log messages containing 'top2vec - INFO'\n",
    "class CustomFilter(logging.Filter):\n",
    "    def filter(self, record):\n",
    "        return not record.getMessage().startswith('top2vec - INFO') or not record.getMessage().startswith('DeprecationWarning')\n",
    "\n",
    "# Configure the root logger with the custom filter\n",
    "logging.basicConfig(level=logging.INFO)\n",
    "logging.getLogger().addFilter(CustomFilter())"
   ]
  },
  {
   "cell_type": "code",
   "execution_count": 11,
   "id": "a072153b",
   "metadata": {},
   "outputs": [],
   "source": [
    "# Set the logging level for the 'top2vec' module to suppress 'INFO' level log messages\n",
    "logging.getLogger('top2vec').disabled = True"
   ]
  },
  {
   "cell_type": "code",
   "execution_count": 25,
   "id": "6fdbf71d",
   "metadata": {},
   "outputs": [],
   "source": [
    "# Set the logging level for the 'BERTopic' module to suppress log messages\n",
    "logging.getLogger('BERTopic').disabled = True"
   ]
  },
  {
   "cell_type": "code",
   "execution_count": 57,
   "id": "bb5413b6",
   "metadata": {},
   "outputs": [],
   "source": [
    "logging.getLogger('gensim.models.ldamodel').setLevel(logging.ERROR)"
   ]
  },
  {
   "cell_type": "code",
   "execution_count": 7,
   "id": "804cc29e",
   "metadata": {},
   "outputs": [],
   "source": [
    "# read data\n",
    "import pandas as pd\n",
    "import gzip\n",
    "import json\n",
    "import pickle\n",
    "from string import punctuation\n",
    "import re\n",
    "import seaborn as sns\n",
    "import numpy as np\n",
    "import os\n",
    "import random\n",
    "# preprocessing\n",
    "import spacy\n",
    "nlp = spacy.load(\"en_core_web_sm\")\n",
    "from spacy.lang.en.stop_words import STOP_WORDS\n",
    "from spacy.tokenizer import Tokenizer\n",
    "from spacy.lang.char_classes import ALPHA, ALPHA_LOWER, ALPHA_UPPER, CONCAT_QUOTES, LIST_ELLIPSES, LIST_ICONS\n",
    "from spacy.util import compile_infix_regex\n",
    "from operator import itemgetter\n",
    "\n",
    "# modeling\n",
    "import gensim.corpora as corpora\n",
    "import gensim\n",
    "from pprint import pprint\n",
    "from gensim.models import CoherenceModel\n",
    "import matplotlib.pyplot as plt\n",
    "from gensim.models import Nmf\n",
    "from gensim.corpora.dictionary import Dictionary\n",
    "import pyLDAvis\n",
    "import pyLDAvis.gensim_models\n",
    "pyLDAvis.enable_notebook()\n",
    "from top2vec import Top2Vec\n",
    "from bertopic import BERTopic\n",
    "from datasets import load_dataset\n",
    "from sklearn.feature_extraction.text import CountVectorizer\n",
    "from umap import UMAP\n",
    "from hdbscan import HDBSCAN"
   ]
  },
  {
   "cell_type": "markdown",
   "id": "9f07baf1",
   "metadata": {},
   "source": [
    "# 0: Load review data"
   ]
  },
  {
   "cell_type": "code",
   "execution_count": null,
   "id": "b0bde5fb",
   "metadata": {},
   "outputs": [],
   "source": [
    "url = 'C://Users//KristinChen//Downloads//Pet_Supplies_5.json.gz' #data is downloaded from here: https://nijianmo.github.io/amazon/index.html\n",
    "\n",
    "    \n",
    "def parse(path):\n",
    "  g = gzip.open(path, 'rb')\n",
    "  for l in g:\n",
    "    yield json.loads(l)\n",
    "\n",
    "def getDF(path):\n",
    "  i = 0\n",
    "  df = {}\n",
    "  for d in parse(path):\n",
    "    df[i] = d\n",
    "    i += 1\n",
    "  return pd.DataFrame.from_dict(df, orient='index')\n",
    "\n",
    "df = getDF(url)"
   ]
  },
  {
   "cell_type": "code",
   "execution_count": null,
   "id": "f9a502e2",
   "metadata": {},
   "outputs": [],
   "source": [
    "df.drop_duplicates(['overall', 'vote', 'verified', 'reviewTime', 'reviewerID', 'asin',\n",
    "       'reviewerName', 'reviewText', 'summary']).shape #1,974,009"
   ]
  },
  {
   "cell_type": "code",
   "execution_count": null,
   "id": "94aeb641",
   "metadata": {},
   "outputs": [],
   "source": [
    "cleaned_df = df.drop_duplicates(['overall', 'vote', 'verified', 'reviewTime', 'reviewerID', 'asin',\n",
    "       'reviewerName', 'reviewText', 'summary']).dropna(subset = 'reviewText').reset_index(drop = True)\n",
    "\n",
    "cleaned_df = cleaned_df[~cleaned_df['reviewText'].apply(lambda x: 'div id' in x)].reset_index(drop = True)"
   ]
  },
  {
   "cell_type": "markdown",
   "id": "c0e27662",
   "metadata": {},
   "source": [
    "# 0: Load metadata"
   ]
  },
  {
   "cell_type": "code",
   "execution_count": null,
   "id": "fe8c8904",
   "metadata": {},
   "outputs": [],
   "source": [
    "i = 0\n",
    "data = {}\n",
    "with gzip.open('All_Amazon_Meta.json.gz') as f:\n",
    "    for l in f:\n",
    "        obj = json.loads(l.strip())\n",
    "        try: \n",
    "            data[obj['asin']] = obj['category']\n",
    "            if len(data) % 10000 == 0:\n",
    "                i += 1\n",
    "                print(i, len(data))\n",
    "                with open('metadata_batch{}.pickle'.format(i), 'wb') as handle:\n",
    "                    pickle.dump(data, handle)\n",
    "                data = {}\n",
    "        except IndexError: \n",
    "            print(obj['category'])"
   ]
  },
  {
   "cell_type": "code",
   "execution_count": null,
   "id": "7df8f885",
   "metadata": {},
   "outputs": [],
   "source": [
    "tot_metadata_dict = {}\n",
    "for file in os.listdir('.'):\n",
    "    if file.startswith('metadata_batch'):\n",
    "        print(file)\n",
    "        with open(file, 'rb') as handle:\n",
    "            data = pickle.load(handle)\n",
    "            tot_metadata_dict.update(data)\n",
    "            print(len(tot_metadata_dict))"
   ]
  },
  {
   "cell_type": "code",
   "execution_count": null,
   "id": "b0c0fdcc",
   "metadata": {},
   "outputs": [],
   "source": [
    "len(tot_metadata_dict) #13,491,466"
   ]
  },
  {
   "cell_type": "code",
   "execution_count": null,
   "id": "5326be81",
   "metadata": {},
   "outputs": [],
   "source": [
    "with open('tot_metadata_{}.pickle'.format(len(tot_metadata_dict)), 'wb') as handle:\n",
    "    pickle.dump(tot_metadata_dict, handle)"
   ]
  },
  {
   "cell_type": "code",
   "execution_count": null,
   "id": "4474cb42",
   "metadata": {},
   "outputs": [],
   "source": [
    "with open('tot_metadata_14737765.pickle', 'rb') as handle:\n",
    "    tot_metadata_dict = pickle.load(handle)"
   ]
  },
  {
   "cell_type": "code",
   "execution_count": null,
   "id": "b0faa513",
   "metadata": {},
   "outputs": [],
   "source": [
    "%%time\n",
    "# merge product categories to review data\n",
    "cleaned_df['categories'] = cleaned_df['asin'].apply(lambda x: tot_metadata_dict.get(str(x), []))"
   ]
  },
  {
   "cell_type": "code",
   "execution_count": null,
   "id": "12f01f32",
   "metadata": {},
   "outputs": [],
   "source": [
    "sub_cleaned_df =  cleaned_df.dropna(subset = 'categories')"
   ]
  },
  {
   "cell_type": "code",
   "execution_count": null,
   "id": "6efc3124",
   "metadata": {},
   "outputs": [],
   "source": [
    "sub_cleaned_df['categories'] = sub_cleaned_df['categories'].apply(lambda x: x[1:])\n",
    "sub_cleaned_df['categories2'] = sub_cleaned_df['categories'].apply(lambda x: '->'.join(x) if len(x) > 0 else x)\n",
    "x = pd.DataFrame(sub_cleaned_df['categories'].tolist()).reset_index(drop = True)\n",
    "sub_cleaned_df2 = pd.concat([sub_cleaned_df, x], axis = 1)"
   ]
  },
  {
   "cell_type": "markdown",
   "id": "58b483fd",
   "metadata": {},
   "source": [
    "# 0: Get sample data"
   ]
  },
  {
   "cell_type": "code",
   "execution_count": null,
   "id": "dcfff6e5",
   "metadata": {},
   "outputs": [],
   "source": [
    "lst = ['Dogs', 'Cats']\n",
    "sub_cleaned_df3 = sub_cleaned_df2[sub_cleaned_df2[0].isin(lst)].reset_index(drop = True)\n",
    "sub_cleaned_df3 = sub_cleaned_df3.rename({0: 'category_level1', \n",
    "                                            1: 'category_level2',\n",
    "                                            2: 'category_level3',\n",
    "                                            3: 'category_level4',\n",
    "                                            4: 'category_level5',\n",
    "                                            5: 'category_level6',\n",
    "                                            6: 'category_level7'}, axis = 1)\n",
    "sub_cleaned_df3 = sub_cleaned_df3.dropna(subset = 'category_level2').reset_index(drop = True)"
   ]
  },
  {
   "cell_type": "code",
   "execution_count": null,
   "id": "7b0f752a",
   "metadata": {},
   "outputs": [],
   "source": [
    "sub_cleaned_df3['category_level2'] = sub_cleaned_df3['category_level2'].apply(lambda x: re.sub('&amp;', '&', x) if isinstance(x, str) else x)\n",
    "sub_cleaned_df3['category_level3'] = sub_cleaned_df3['category_level3'].apply(lambda x: re.sub('&amp;', '&', x) if isinstance(x, str) else x)\n",
    "sub_cleaned_df3['category_level4'] = sub_cleaned_df3['category_level4'].apply(lambda x: re.sub('&amp;', '&', x) if isinstance(x, str) else x)\n",
    "sub_cleaned_df3['category_level5'] = sub_cleaned_df3['category_level5'].apply(lambda x: re.sub('&amp;', '&', x) if isinstance(x, str) else x)\n",
    "sub_cleaned_df3['category_level6'] = sub_cleaned_df3['category_level6'].apply(lambda x: re.sub('&amp;', '&', x) if isinstance(x, str) else x)\n",
    "sub_cleaned_df3['category_level7'] = sub_cleaned_df3['category_level7'].apply(lambda x: re.sub('&amp;', '&', x) if isinstance(x, str) else x)\n",
    "\n",
    "sub_cleaned_df3['category_level2'] = sub_cleaned_df3['category_level2'].apply(lambda x: ' '.join([c.lower().capitalize() for c in x.split()]) if isinstance(x, str) else x)\n",
    "sub_cleaned_df3['category_level3'] = sub_cleaned_df3['category_level3'].apply(lambda x: ' '.join([c.lower().capitalize() for c in x.split()]) if isinstance(x, str) else x)\n",
    "sub_cleaned_df3['category_level4'] = sub_cleaned_df3['category_level4'].apply(lambda x: ' '.join([c.lower().capitalize() for c in x.split()]) if isinstance(x, str) else x)\n",
    "sub_cleaned_df3['category_level5'] = sub_cleaned_df3['category_level5'].apply(lambda x: ' '.join([c.lower().capitalize() for c in x.split()]) if isinstance(x, str) else x)\n",
    "sub_cleaned_df3['category_level6'] = sub_cleaned_df3['category_level6'].apply(lambda x: ' '.join([c.lower().capitalize() for c in x.split()]) if isinstance(x, str) else x)\n",
    "sub_cleaned_df3['category_level7'] = sub_cleaned_df3['category_level7'].apply(lambda x: ' '.join([c.lower().capitalize() for c in x.split()]) if isinstance(x, str) else x)\n",
    "\n",
    "sub_cleaned_df3 = sub_cleaned_df3.drop([7, 8, 9, 10], axis = 1)\n",
    "sub_cleaned_df3 = sub_cleaned_df3.drop_duplicates('reviewerID').dropna(subset = 'reviewText').sort_values(['asin', 'reviewerID']).reset_index(drop = True)\n",
    "\n",
    "# with open('sub_cleaned_df3_{}.pickle'.format(sub_cleaned_df3.shape[0]), 'wb') as handle:\n",
    "#     pickle.dump(sub_cleaned_df3, handle)"
   ]
  },
  {
   "cell_type": "code",
   "execution_count": null,
   "id": "fb15dc55",
   "metadata": {},
   "outputs": [],
   "source": [
    "with open('sub_cleaned_df3_224988.pickle', 'rb') as handle:\n",
    "    sub_cleaned_df3 = pickle.load(handle)"
   ]
  },
  {
   "cell_type": "markdown",
   "id": "bd3dd728",
   "metadata": {},
   "source": [
    "# 1. Preprocess sample data"
   ]
  },
  {
   "cell_type": "code",
   "execution_count": null,
   "id": "4860229c",
   "metadata": {},
   "outputs": [],
   "source": [
    "def custom_tokenizer(nlp):\n",
    "    infixes = (\n",
    "        LIST_ELLIPSES\n",
    "        + LIST_ICONS\n",
    "        + [\n",
    "            r\"(?<=[0-9])[+\\-\\*^](?=[0-9-])\",\n",
    "            r\"(?<=[{al}{q}])\\.(?=[{au}{q}])\".format(\n",
    "                al=ALPHA_LOWER, au=ALPHA_UPPER, q=CONCAT_QUOTES\n",
    "            ),\n",
    "            r\"(?<=[{a}]),(?=[{a}])\".format(a=ALPHA),\n",
    "            #r\"(?<=[{a}])(?:{h})(?=[{a}])\".format(a=ALPHA, h=HYPHENS),\n",
    "            r\"(?<=[{a}0-9])[:<>=/](?=[{a}])\".format(a=ALPHA),\n",
    "        ]\n",
    "    )\n",
    "\n",
    "    infix_re = compile_infix_regex(infixes)\n",
    "\n",
    "    return Tokenizer(nlp.vocab, prefix_search=nlp.tokenizer.prefix_search,\n",
    "                                suffix_search=nlp.tokenizer.suffix_search,\n",
    "                                infix_finditer=infix_re.finditer,\n",
    "                                token_match=nlp.tokenizer.token_match,\n",
    "                                rules=nlp.Defaults.tokenizer_exceptions)\n",
    "\n",
    "\n",
    "nlp.tokenizer = custom_tokenizer(nlp)"
   ]
  },
  {
   "cell_type": "code",
   "execution_count": null,
   "id": "9a9434ac",
   "metadata": {},
   "outputs": [],
   "source": [
    "# only keep noun, adjectives, verbs, and adverbs\n",
    "def clean_review(review, output_list = True, postags = ['NOUN', 'ADJ', 'VERB', 'ADV']):\n",
    "    result = []\n",
    "    doc = nlp(review)\n",
    "    for sent in doc.sents:\n",
    "        output = [token.lemma_.lower() for token in sent if (token.pos_ in postags) and (nlp.vocab[token.text].is_stop == False)]\n",
    "        result = result + output\n",
    "        \n",
    "    if output_list: \n",
    "        return result\n",
    "    return ' '.join(result)"
   ]
  },
  {
   "cell_type": "code",
   "execution_count": null,
   "id": "27619146",
   "metadata": {},
   "outputs": [],
   "source": [
    "sub_cleaned_df3['reviewText'] = sub_cleaned_df3['reviewText'].apply(lambda x: re.sub('&', 'and', x))"
   ]
  },
  {
   "cell_type": "markdown",
   "id": "d25ad8bf",
   "metadata": {},
   "source": [
    "## Get Toy data"
   ]
  },
  {
   "cell_type": "code",
   "execution_count": null,
   "id": "014bb25c",
   "metadata": {},
   "outputs": [],
   "source": [
    "toys_dta = sub_cleaned_df3[sub_cleaned_df3['category_level2'] == 'Toys'].drop_duplicates('reviewerID').reset_index(drop = True)"
   ]
  },
  {
   "cell_type": "code",
   "execution_count": null,
   "id": "5fe682f0",
   "metadata": {},
   "outputs": [],
   "source": [
    "%%time #6 mins\n",
    "toys_dta['lemmatizedReviewText'] = toys_dta['reviewText'].apply(lambda x: clean_review(x) if isinstance(x, str) else x)"
   ]
  },
  {
   "cell_type": "code",
   "execution_count": null,
   "id": "8a99bf05",
   "metadata": {},
   "outputs": [],
   "source": [
    "with open('toys_dta_{}.pickle'.format(sub_cleaned_df3['reviewerID'].nunique()), 'wb') as handle:\n",
    "    pickle.dump(toys_dta, handle)"
   ]
  },
  {
   "cell_type": "code",
   "execution_count": null,
   "id": "aab0a747",
   "metadata": {},
   "outputs": [],
   "source": [
    "with open('toys_dta_224988.pickle', 'rb') as handle:\n",
    "    toys_dta = pickle.load(handle)"
   ]
  },
  {
   "cell_type": "code",
   "execution_count": null,
   "id": "20537acb",
   "metadata": {},
   "outputs": [],
   "source": [
    "# define extra stopwords for toy data\n",
    "sw = ['toy',\n",
    " 'dog',\n",
    " 'love',\n",
    " 'cat',\n",
    " 'ball',\n",
    " 'great',\n",
    " 'buy',\n",
    " 'good',\n",
    " 'get',\n",
    " 'time',\n",
    " 'puppy',\n",
    " 'like',\n",
    " 'treat',\n",
    " 'thing',\n",
    " 'old',\n",
    " 'product',\n",
    " 'day',\n",
    " 'think',\n",
    " 'go',\n",
    " 'favorite',\n",
    " 'minute',\n",
    " 'recommend']"
   ]
  },
  {
   "cell_type": "code",
   "execution_count": null,
   "id": "524854ee",
   "metadata": {},
   "outputs": [],
   "source": [
    "toys_dta['lemmatizedReviewText'] = toys_dta['lemmatizedReviewText'].apply(lambda x: [i for i in x if i not in sw])"
   ]
  },
  {
   "cell_type": "code",
   "execution_count": null,
   "id": "8c23538e",
   "metadata": {},
   "outputs": [],
   "source": [
    "toys_dta2 = toys_dta[~toys_dta['lemmatizedReviewText'].apply(lambda x: len(x) == 0)].reset_index(drop = True)"
   ]
  },
  {
   "cell_type": "code",
   "execution_count": null,
   "id": "97961b80",
   "metadata": {},
   "outputs": [],
   "source": [
    "with open('toys_dta2_{}.pickle'.format(toys_dta2['reviewerID'].nunique()), 'wb') as handle:\n",
    "    pickle.dump(toys_dta2, handle)"
   ]
  },
  {
   "cell_type": "code",
   "execution_count": 8,
   "id": "b840e014",
   "metadata": {},
   "outputs": [],
   "source": [
    "with open('toys_dta2_43396.pickle', 'rb') as handle:\n",
    "    sub_cleaned_df4 = pickle.load(handle)"
   ]
  },
  {
   "cell_type": "markdown",
   "id": "282957d9",
   "metadata": {},
   "source": [
    "## Get Balls data"
   ]
  },
  {
   "cell_type": "code",
   "execution_count": 9,
   "id": "161463a7",
   "metadata": {},
   "outputs": [],
   "source": [
    "interested_dta = sub_cleaned_df4[(sub_cleaned_df4['category_level3'] == 'Balls')] #8502"
   ]
  },
  {
   "cell_type": "markdown",
   "id": "a3c889d9",
   "metadata": {},
   "source": [
    "# 2.1 Modeling - LDA"
   ]
  },
  {
   "cell_type": "code",
   "execution_count": 60,
   "id": "88102fa2",
   "metadata": {},
   "outputs": [],
   "source": [
    "# define extra stopwords for toy data\n",
    "sw = ['toy',\n",
    " 'dog',\n",
    " 'love',\n",
    " 'cat',\n",
    " 'ball',\n",
    " 'great',\n",
    " 'buy',\n",
    " 'good',\n",
    " 'get',\n",
    " 'time',\n",
    " 'puppy',\n",
    " 'like',\n",
    " 'treat',\n",
    " 'thing',\n",
    " 'old',\n",
    " 'product',\n",
    " 'day',\n",
    " 'think',\n",
    " 'go',\n",
    " 'favorite',\n",
    " 'minute',\n",
    " 'recommend', 'month', 'know', 'year', 'pet', 'work', 'hour'\n",
    "     ]\n",
    "STOP_WORDS = list(STOP_WORDS) + sw "
   ]
  },
  {
   "cell_type": "code",
   "execution_count": 61,
   "id": "b7cb95e6",
   "metadata": {},
   "outputs": [],
   "source": [
    "texts = interested_dta['lemmatizedReviewText'].tolist()"
   ]
  },
  {
   "cell_type": "code",
   "execution_count": 62,
   "id": "31b6997f",
   "metadata": {},
   "outputs": [],
   "source": [
    "texts2 = [[word for word in text if word not in STOP_WORDS] for text in texts] "
   ]
  },
  {
   "cell_type": "code",
   "execution_count": 63,
   "id": "f741178f",
   "metadata": {},
   "outputs": [
    {
     "name": "stdout",
     "output_type": "stream",
     "text": [
      "Dictionary(7038 unique tokens: ['blue', 'bright', 'chase', 'cheap', 'come']...)\n"
     ]
    },
    {
     "data": {
      "text/plain": [
       "[[('blue', 2),\n",
       "  ('bright', 1),\n",
       "  ('chase', 1),\n",
       "  ('cheap', 1),\n",
       "  ('come', 1),\n",
       "  ('completely', 1),\n",
       "  ('crumple', 1),\n",
       "  ('durable', 1),\n",
       "  ('excited', 1),\n",
       "  ('fetch', 1),\n",
       "  ('game', 1),\n",
       "  ('hard', 1),\n",
       "  ('hardly', 1),\n",
       "  ('jaw', 1),\n",
       "  ('package', 1),\n",
       "  ('pit', 1),\n",
       "  ('prior', 1),\n",
       "  ('quickly', 1),\n",
       "  ('regular', 2),\n",
       "  ('remain', 1),\n",
       "  ('small', 1),\n",
       "  ('strong', 1),\n",
       "  ('survive', 1),\n",
       "  ('tennis', 2),\n",
       "  ('yellow', 1)]]"
      ]
     },
     "execution_count": 63,
     "metadata": {},
     "output_type": "execute_result"
    }
   ],
   "source": [
    "id2word = corpora.Dictionary(texts2)  #remove stopwords\n",
    "\n",
    "print(id2word) \n",
    "corpus = [id2word.doc2bow(text) for text in texts2]  \n",
    "\n",
    "[[(id2word[id], freq) for id, freq in cp] for cp in corpus[:1]]"
   ]
  },
  {
   "cell_type": "code",
   "execution_count": 64,
   "id": "14b68710",
   "metadata": {},
   "outputs": [
    {
     "name": "stdout",
     "output_type": "stream",
     "text": [
      "CPU times: total: 2.23 s\n",
      "Wall time: 2.23 s\n"
     ]
    }
   ],
   "source": [
    "%%time \n",
    "lda_model = gensim.models.ldamodel.LdaModel(corpus=corpus,\n",
    "                                           id2word=id2word,\n",
    "                                           num_topics=6, \n",
    "                                           random_state=1234)"
   ]
  },
  {
   "cell_type": "code",
   "execution_count": 65,
   "id": "5003dab1",
   "metadata": {},
   "outputs": [
    {
     "name": "stdout",
     "output_type": "stream",
     "text": [
      "n : 2 ;  Score : 0.5124579407950085\n",
      "n : 3 ;  Score : 0.4968270995315531\n",
      "n : 4 ;  Score : 0.5277749244106458\n",
      "n : 5 ;  Score : 0.5197117455819259\n",
      "n : 6 ;  Score : 0.49186064174742755\n",
      "n : 7 ;  Score : 0.4675881336864215\n",
      "n : 8 ;  Score : 0.47576476738810003\n",
      "n : 9 ;  Score : 0.4946243610370354\n",
      "n : 10 ;  Score : 0.4614810299781909\n"
     ]
    }
   ],
   "source": [
    "# tune K\n",
    "def calculate_coherence_score(n):\n",
    "    lda_model = gensim.models.ldamodel.LdaModel(corpus=corpus,\n",
    "                                           id2word=id2word,\n",
    "                                           num_topics=n, \n",
    "                                           random_state=1234,\n",
    "                                               )\n",
    "    coherence_model_lda = CoherenceModel(model=lda_model, texts=texts2, dictionary=id2word, coherence='c_v')\n",
    "    coherence_lda = coherence_model_lda.get_coherence()\n",
    "    return coherence_lda\n",
    "\n",
    "topic_nums = list(np.arange(2, 10 + 1, 1))\n",
    "coherence_scores = []\n",
    "for n in topic_nums:\n",
    "    coherence_score = calculate_coherence_score(n)\n",
    "    coherence_scores.append(coherence_score)\n",
    "    print(f\"n : {n} ;  Score : {coherence_score}\")"
   ]
  },
  {
   "cell_type": "code",
   "execution_count": 66,
   "id": "c885df75",
   "metadata": {},
   "outputs": [],
   "source": [
    "# final model\n",
    "lda_model = gensim.models.ldamodel.LdaModel(corpus=corpus,\n",
    "                                           id2word=id2word,\n",
    "                                           num_topics=4, \n",
    "                                           random_state=1234)"
   ]
  },
  {
   "cell_type": "code",
   "execution_count": 43,
   "id": "ed5b24e0",
   "metadata": {},
   "outputs": [
    {
     "name": "stdout",
     "output_type": "stream",
     "text": [
      "[(0,\n",
      "  '0.014*\"play\" + 0.011*\"use\" + 0.010*\"food\" + 0.010*\"try\" + 0.007*\"way\" + '\n",
      "  '0.007*\"chew\" + 0.007*\"kitten\" + 0.006*\"happy\" + 0.006*\"come\" + '\n",
      "  '0.006*\"find\"'),\n",
      " (1,\n",
      "  '0.024*\"play\" + 0.017*\"small\" + 0.016*\"size\" + 0.014*\"hard\" + 0.013*\"tennis\" '\n",
      "  '+ 0.011*\"chew\" + 0.010*\"long\" + 0.009*\"big\" + 0.009*\"perfect\" + '\n",
      "  '0.009*\"price\"'),\n",
      " (2,\n",
      "  '0.036*\"play\" + 0.020*\"destroy\" + 0.011*\"durable\" + 0.011*\"chewer\" + '\n",
      "  '0.010*\"hold\" + 0.010*\"fun\" + 0.009*\"chew\" + 0.009*\"lab\" + 0.008*\"tear\" + '\n",
      "  '0.008*\"throw\"'),\n",
      " (3,\n",
      "  '0.023*\"chew\" + 0.014*\"little\" + 0.012*\"small\" + 0.011*\"big\" + 0.008*\"roll\" '\n",
      "  '+ 0.008*\"piece\" + 0.007*\"come\" + 0.007*\"away\" + 0.007*\"throw\" + '\n",
      "  '0.007*\"plastic\"')]\n"
     ]
    }
   ],
   "source": [
    "pprint(lda_model.print_topics())\n",
    "doc_lda = lda_model[corpus]"
   ]
  },
  {
   "cell_type": "code",
   "execution_count": 44,
   "id": "6176f3e2",
   "metadata": {},
   "outputs": [
    {
     "name": "stdout",
     "output_type": "stream",
     "text": [
      "Topic: 0 \n",
      "Words: ['play', 'use', 'food', 'try', 'way', 'chew', 'kitten', 'happy', 'come', 'find']\n",
      "Topic: 1 \n",
      "Words: ['play', 'small', 'size', 'hard', 'tennis', 'chew', 'long', 'big', 'perfect', 'price']\n",
      "Topic: 2 \n",
      "Words: ['play', 'destroy', 'durable', 'chewer', 'hold', 'fun', 'chew', 'lab', 'tear', 'throw']\n",
      "Topic: 3 \n",
      "Words: ['chew', 'little', 'small', 'big', 'roll', 'piece', 'come', 'away', 'throw', 'plastic']\n"
     ]
    }
   ],
   "source": [
    "topics = []\n",
    "for index, topic in lda_model.show_topics(formatted=False, num_words= 10):\n",
    "    print('Topic: {} \\nWords: {}'.format(index, [w[0] for w in topic]))\n",
    "    topics.append([w[0] for w in topic])"
   ]
  },
  {
   "cell_type": "code",
   "execution_count": 45,
   "id": "3921d248",
   "metadata": {},
   "outputs": [
    {
     "name": "stdout",
     "output_type": "stream",
     "text": [
      "\n",
      "Perplexity:  -7.409641682684544\n",
      "\n",
      "Coherence Score:  0.5277749244106458\n"
     ]
    }
   ],
   "source": [
    "print('\\nPerplexity: ', lda_model.log_perplexity(corpus))  \n",
    "\n",
    "coherence_model_lda = CoherenceModel(model=lda_model, texts=texts2, dictionary=id2word, coherence='c_v')\n",
    "coherence_lda = coherence_model_lda.get_coherence()\n",
    "print('\\nCoherence Score: ', coherence_lda)"
   ]
  },
  {
   "cell_type": "code",
   "execution_count": 46,
   "id": "bf99ae94",
   "metadata": {},
   "outputs": [
    {
     "data": {
      "text/plain": [
       "[0.5920266386251285,\n",
       " 0.5317097181753042,\n",
       " 0.39443885579224014,\n",
       " 0.5929244850499101]"
      ]
     },
     "execution_count": 46,
     "metadata": {},
     "output_type": "execute_result"
    }
   ],
   "source": [
    "coherence_per_topic = coherence_model_lda.get_coherence_per_topic()\n",
    "coherence_per_topic "
   ]
  },
  {
   "cell_type": "code",
   "execution_count": 47,
   "id": "6aba703d",
   "metadata": {},
   "outputs": [
    {
     "data": {
      "image/png": "[encoded data removed]",
      "text/plain": [
       "<Figure size 288x576 with 2 Axes>"
      ]
     },
     "metadata": {
      "needs_background": "light"
     },
     "output_type": "display_data"
    }
   ],
   "source": [
    "coherence_per_topic = coherence_model_lda.get_coherence_per_topic()\n",
    "topics_str = [ '\\n '.join(t) for t in topics ]\n",
    "data_topic_score = pd.DataFrame( data=zip(topics_str, coherence_per_topic), columns=['Topic', 'Coherence'] )\n",
    "data_topic_score = data_topic_score.set_index('Topic')\n",
    "\n",
    "fig, ax = plt.subplots( figsize=(4, 8) )\n",
    "ax.set_title(\"Topics coherence\\n $C_v$\")\n",
    "sns.heatmap(data=data_topic_score, annot=True, square=True,\n",
    "            cmap='Reds', fmt='.2f',\n",
    "            linecolor='black', ax=ax )\n",
    "plt.yticks( rotation=0 )\n",
    "ax.set_xlabel('')\n",
    "ax.set_ylabel('')\n",
    "fig.show()"
   ]
  },
  {
   "cell_type": "code",
   "execution_count": 48,
   "id": "2a52669a",
   "metadata": {},
   "outputs": [
    {
     "data": {
      "text/html": [
       "\n",
       "<link rel=\"stylesheet\" type=\"text/css\" href=\"https://cdn.jsdelivr.net/gh/bmabey/pyLDAvis@3.3.1/pyLDAvis/js/ldavis.v1.0.0.css\">\n",
       "\n",
       "\n",
       "<div id=\"ldavis_el593214483584200327316952272\"></div>\n",
       "<script type=\"text/javascript\">\n",
       "\n",
       "var ldavis_el593214483584200327316952272_data = {\"mdsDat\": {\"x\": [0.06904689894080056, 0.0012699081328902103, 0.05392066345761282, -0.12423747053130366], \"y\": [-0.06374799333128524, -0.04567963131820455, 0.1013404276134104, 0.008087197036079444], \"topics\": [1, 2, 3, 4], \"cluster\": [1, 1, 1, 1], \"Freq\": [31.04934631430446, 28.78172114724194, 20.891439491415632, 19.27749304703797]}, \"tinfo\": {\"Term\": [\"destroy\", \"durable\", \"price\", \"size\", \"chew\", \"kitten\", \"play\", \"food\", \"chewer\", \"little\", \"lab\", \"use\", \"small\", \"rip\", \"tennis\", \"plastic\", \"water\", \"perfect\", \"leave\", \"away\", \"arrive\", \"piece\", \"hard\", \"heavy\", \"hate\", \"entertain\", \"squeaker\", \"battery\", \"cute\", \"occupy\", \"honestly\", \"child\", \"frustrating\", \"die\", \"exact\", \"softball\", \"pic\", \"corgi\", \"tv\", \"feature\", \"tie\", \"thankfully\", \"turtle\", \"terrible\", \"person\", \"honest\", \"shepard\", \"thought\", \"slam\", \"raise\", \"wobble\", \"hound\", \"cloth\", \"agressive\", \"dead\", \"pounce\", \"voice\", \"brain\", \"willing\", \"squish\", \"slobber\", \"lazy\", \"training\", \"wubba\", \"durable\", \"destroy\", \"lab\", \"squeaker\", \"got\", \"constant\", \"heavy\", \"hold\", \"chewer\", \"test\", \"play\", \"lose\", \"slow\", \"tear\", \"pretty\", \"aggressive\", \"fun\", \"mix\", \"tug\", \"rope\", \"brand\", \"damage\", \"pick\", \"throw\", \"week\", \"easy\", \"far\", \"tough\", \"chase\", \"carry\", \"sturdy\", \"fetch\", \"large\", \"yard\", \"able\", \"german\", \"chew\", \"piece\", \"bounce\", \"eat\", \"long\", \"house\", \"small\", \"size\", \"beagle\", \"strip\", \"meal\", \"blind\", \"puzzle\", \"sock\", \"plus\", \"mutt\", \"flash\", \"interesting\", \"r\", \"metal\", \"letter\", \"travel\", \"defective\", \"currently\", \"table\", \"periodically\", \"button\", \"weak\", \"enjoyment\", \"count\", \"suck\", \"italian\", \"3rd\", \"golf\", \"expectation\", \"picky\", \"krinkle\", \"value\", \"healthy\", \"schnauzer\", \"addition\", \"kitchen\", \"teach\", \"price\", \"regular\", \"tiny\", \"dollar\", \"snack\", \"size\", \"perfect\", \"tennis\", \"hide\", \"fit\", \"night\", \"hard\", \"small\", \"kibble\", \"easily\", \"war\", \"pup\", \"plastic\", \"expect\", \"quality\", \"mouth\", \"light\", \"long\", \"play\", \"food\", \"super\", \"soft\", \"big\", \"want\", \"sound\", \"weight\", \"large\", \"chew\", \"find\", \"squeak\", \"fetch\", \"little\", \"try\", \"purchase\", \"way\", \"hole\", \"roll\", \"fun\", \"destroy\", \"tool\", \"cool\", \"sparkle\", \"loves\", \"fox\", \"absolute\", \"upset\", \"mouse\", \"bunch\", \"lead\", \"pour\", \"rinse\", \"hrs\", \"portion\", \"boredom\", \"block\", \"bar\", \"harm\", \"muscle\", \"border\", \"kong\", \"unique\", \"fling\", \"double\", \"insane\", \"meow\", \"bump\", \"preference\", \"doggy\", \"loss\", \"chihuahua\", \"colorful\", \"collie\", \"irritate\", \"bored\", \"machine\", \"expose\", \"unattended\", \"crate\", \"tile\", \"awhile\", \"occupy\", \"anymore\", \"golden\", \"rip\", \"bird\", \"choke\", \"chew\", \"little\", \"entertain\", \"battery\", \"leave\", \"away\", \"piece\", \"s\", \"roll\", \"big\", \"tooth\", \"mark\", \"small\", \"terrier\", \"come\", \"bit\", \"plastic\", \"shred\", \"especially\", \"throw\", \"pit\", \"busy\", \"lot\", \"start\", \"let\", \"floor\", \"long\", \"easy\", \"hard\", \"look\", \"bounce\", \"apart\", \"chewer\", \"fun\", \"hole\", \"house\", \"play\", \"large\", \"mouth\", \"yorkie\", \"dispenser\", \"cage\", \"prevent\", \"certainly\", \"kinda\", \"date\", \"positive\", \"hay\", \"shame\", \"wonder\", \"tab\", \"stupid\", \"dp\", \"rabbit\", \"plain\", \"pleasure\", \"contain\", \"breakfast\", \"dye\", \"swat\", \"=\", \"class=\\\"a-link-normal\", \"teethe\", \"upside\", \"data-hook=\\\"product-link-linke\", \"i.\", \"connect\", \"distract\", \"amusement\", \"forward\", \"cm_cr_arp_d_rvw_txt?ie\", \"arrive\", \"fat\", \"rolling\", \"data-hook=\\\"product-link-linked\", \"sister\", \"ref\", \"hate\", \"plant\", \"cabinet\", \"kitten\", \"pack\", \"track\", \"replacement\", \"insert\", \"water\", \"cute\", \"bell\", \"smell\", \"use\", \"dispense\", \"fast\", \"happy\", \"food\", \"try\", \"couch\", \"reason\", \"way\", \"turn\", \"need\", \"fur\", \"play\", \"review\", \"thank\", \"package\", \"come\", \"find\", \"float\", \"fill\", \"hole\", \"purchase\", \"able\", \"chew\", \"away\", \"break\", \"sure\", \"roll\", \"tear\", \"long\", \"little\", \"big\", \"large\"], \"Freq\": [866.0, 442.0, 314.0, 759.0, 1243.0, 182.0, 2296.0, 593.0, 515.0, 740.0, 349.0, 512.0, 1054.0, 216.0, 588.0, 485.0, 190.0, 401.0, 312.0, 337.0, 81.0, 401.0, 723.0, 283.0, 93.0, 224.0, 248.0, 177.0, 109.0, 144.0, 45.58505768929991, 36.07523426314787, 30.876612677376727, 42.65733522387841, 23.008187122825174, 24.904304733704752, 19.904303185230315, 23.86856503684853, 23.07545071221288, 23.09306256203423, 17.94726157826282, 17.69055943152983, 23.90246775433297, 18.207149403326536, 15.435398122663864, 49.093705881334415, 19.414140330330824, 16.981035064172715, 16.76564584035505, 16.780834332525398, 17.740919307217798, 16.341419987385894, 12.01169637029388, 12.19275407124476, 18.736347561267362, 33.85530412765676, 19.032817436792794, 16.42565081719665, 12.578134267125993, 36.85798065285262, 34.72281011372217, 44.65667815483862, 24.655904034962028, 20.35194424103854, 363.4689396372765, 640.4305058072376, 274.4519765973701, 186.55157419383536, 22.88855322380002, 44.84667537366243, 208.592836008614, 332.15941289330135, 340.2982474193567, 38.62204302186678, 1163.6941766259563, 242.87039105551818, 55.2328275266879, 272.1535648005279, 173.88443525048513, 87.7576615931219, 327.6237244286381, 194.69931740861847, 103.69315329228512, 98.02082227295193, 98.33347838389031, 69.97814606462681, 148.99308062617055, 247.79163441455177, 201.19714456557838, 214.51934118477902, 166.265413743218, 154.5528497655295, 193.70426470960967, 135.70590591584443, 124.90853033536504, 175.06878263749525, 237.48531293153127, 97.93822258518384, 150.51867862334097, 112.72166836770735, 293.1919115500715, 158.14705724326515, 144.61157525584824, 143.1783824830322, 187.6358632547652, 149.38609430523076, 204.84423617203709, 156.10885090510314, 33.58731441114029, 33.00327482690856, 54.98953079471683, 24.781794925486995, 30.62201237428942, 19.645928764954316, 23.36363056475172, 23.149005846509638, 22.532507302436596, 17.220474947928214, 17.687713543217097, 19.507973422695112, 18.949854589383015, 14.612224933283459, 14.47993488410578, 22.7960984425683, 16.53168719485584, 13.123647959407563, 18.195963595209587, 13.226363654560895, 13.42990112925012, 14.124755993806625, 18.673742995663307, 22.470807393926552, 12.048507482292704, 11.164093054332353, 10.870978653464567, 11.295476414140364, 14.697251092854955, 65.65012980280474, 24.389007045087308, 19.478640679305094, 35.593520952350474, 32.435605878631144, 28.442024569881053, 261.32229330511785, 120.1932091766639, 104.9555833433187, 22.24593457444222, 25.92307003533545, 486.9850046341262, 271.28777765226823, 379.0119937080741, 71.23420707168235, 147.6151536484299, 98.76110928136964, 402.66402250339064, 510.68669264168165, 149.0137588056281, 152.1522099344834, 50.37231866524749, 133.78582510926984, 243.83817698975759, 103.97615791487733, 139.7921096007308, 229.34246726939787, 148.7781408078259, 299.3238669128955, 713.4157710559997, 250.83145218027445, 127.47176157722193, 130.22497970443683, 281.8246754795341, 146.36699484348904, 111.01429128051238, 66.6244008710472, 224.5987793337575, 330.2887135194472, 192.57220380526573, 132.1088706455236, 147.70414949670297, 198.4280142328554, 176.532984898245, 162.3121743884937, 150.4545964625206, 150.83581128013498, 149.2070750247011, 140.3165518951627, 141.25572620430881, 58.560360499417456, 34.38515123532565, 49.4464028179494, 27.435906723355835, 23.317149115029196, 27.262414975412234, 19.107518349006618, 17.76578027399489, 24.98747831282908, 17.360428965514203, 14.320279065888748, 24.734405293394296, 19.828391258010406, 14.825547601243404, 14.039748232314778, 15.401702831715145, 15.019116327887746, 11.79903546398148, 15.307327202969718, 35.59149227802244, 29.726726450992533, 10.789983109104705, 11.350910259238184, 12.01759544044373, 10.753412081527717, 9.515993836984824, 9.075143865537779, 9.743342677448128, 8.753975693328115, 9.67035273966565, 28.90756309097193, 18.082669673693097, 32.153350533492635, 17.566169596214934, 50.225656111230265, 17.763513599442764, 23.259399829268574, 25.820586184292928, 23.417948874091515, 34.78466425394495, 34.99627586088441, 95.02348280177463, 29.26888333483053, 48.00279136209637, 122.28321749424448, 51.229399444125, 36.77249383526575, 486.7630372179485, 312.6981613052841, 118.06819347595977, 97.55422305346934, 145.98462263268246, 154.34830223721872, 169.4327234327075, 36.18107909524676, 178.71889306472923, 236.6295388986256, 128.00009506413974, 60.19775188619922, 266.4410437551074, 51.33289960082346, 160.46719207643193, 127.48246353513807, 150.83947494450933, 69.58130680801895, 60.62516901372533, 151.65452233532105, 82.88034275744913, 80.82001981984786, 96.57690037081723, 87.52589162344455, 78.55453706332791, 86.85553928213443, 140.99326195171085, 114.12300807435174, 138.40170492345842, 111.4260198788007, 99.79800708410482, 90.37062224460053, 109.88594840906224, 115.77820599377704, 105.74987456375226, 99.05502058365795, 146.10060395685372, 100.55745746138732, 96.23071643400665, 31.429453716090332, 31.704389524784876, 29.800531784529873, 21.630338447443894, 21.738677568495017, 18.43804884732836, 22.997363499989167, 31.156257978082536, 34.95152151275818, 15.710525167360235, 21.76331000913661, 14.818699498800102, 14.448514540807272, 34.842866858889195, 34.54848402019957, 14.671718047984823, 14.533997253364412, 12.832655899915785, 12.426347074466083, 15.404809828311384, 12.651093444319217, 52.65544381772493, 35.65145450607809, 11.42005491594323, 18.347605773266867, 14.462866643831562, 15.569038859773702, 12.54288772868741, 10.292731560780116, 10.025653911306923, 23.115467897734316, 33.80574992817417, 73.07287179320736, 27.218897951032876, 23.04938465324016, 21.52437974309224, 30.639027766682577, 29.557592395623235, 75.87012126564056, 53.27816175434399, 23.36793823381583, 131.88880154784133, 75.243960309156, 68.11099758740323, 71.97646949414775, 51.50755398709158, 114.20292725603751, 71.67906589274592, 70.82319240466823, 81.04251618341011, 217.2559084487413, 63.42706603244034, 83.23708405315858, 122.97873015475047, 204.25098207069618, 196.242981882369, 46.605974390630365, 60.4225671809328, 134.40657710722894, 64.77318471570791, 103.13475987479241, 48.26271657233054, 273.6913658216432, 87.0785197834835, 55.247805767029284, 51.24947134302175, 117.75101026951936, 115.95769805994627, 61.62179141691943, 77.1821206428824, 107.41509247438842, 104.44573377037618, 90.87992924782473, 133.34229419295244, 86.35549489210334, 86.79980222116309, 79.49211784170693, 90.50103929620967, 87.46413800842065, 92.94214966123347, 87.16573676649176, 82.32379287260675, 79.16951337657251], \"Total\": [866.0, 442.0, 314.0, 759.0, 1243.0, 182.0, 2296.0, 593.0, 515.0, 740.0, 349.0, 512.0, 1054.0, 216.0, 588.0, 485.0, 190.0, 401.0, 312.0, 337.0, 81.0, 401.0, 723.0, 283.0, 93.0, 224.0, 248.0, 177.0, 109.0, 144.0, 46.45337519735195, 36.89701768487455, 31.788328979513135, 44.01228807185768, 23.760957908686787, 25.75897213834198, 20.663061115962464, 24.837485952162258, 24.032731462682634, 24.051401496745108, 18.71622328107079, 18.488360261599826, 24.98632239620453, 19.04735477007295, 16.179424068291944, 51.49649312829618, 20.369907316195878, 17.843016824993818, 17.617285812579777, 17.649823539566945, 18.74100338130923, 17.317403146092328, 12.73362714837641, 12.933629092015254, 19.908959544196232, 36.03647351384976, 20.269075561365813, 17.520664290782857, 13.434099004064489, 39.39017972503664, 37.4175877830063, 48.55643867774861, 26.589528069026624, 21.86331103755678, 442.04051425168694, 866.8449987936303, 349.27521937135475, 248.44853484229955, 24.80137402423222, 51.94163568960828, 283.4167244995652, 501.88792300330346, 515.9979107953653, 44.97688093925324, 2296.9019174604528, 381.6286932293612, 68.31149395791456, 446.28571138604514, 273.152262378841, 123.2273010650562, 619.6150431805912, 326.58302508140264, 154.16294060833093, 145.9961622469809, 147.05081435972778, 96.20640704579156, 265.1883552365235, 520.5753632125108, 412.7925153261367, 452.035159395664, 323.79905194824534, 292.17869669556893, 402.2550966104439, 246.73569615851918, 224.06049399085109, 384.531573979923, 641.8110631032486, 165.38896905731605, 343.11889333646735, 211.99292997806302, 1243.5859564804198, 401.9426957185534, 361.80244088595094, 354.16141505910065, 720.8951417806051, 400.7850096856672, 1054.4325807701002, 759.9857921464985, 34.356479012689164, 33.84689444271715, 56.430939059364306, 25.531931838611733, 31.674146852126746, 20.39294564529931, 24.2694753046736, 24.065192635339027, 23.50731017307113, 17.98424356775638, 18.487142506144565, 20.443795360123417, 19.93859789619795, 15.379725353025883, 15.240916287393247, 24.088540931742475, 17.525511831746364, 13.91629492404072, 19.306576377467042, 14.059787783237466, 14.276561359058194, 15.016687228644738, 19.861818780183572, 23.902066611702324, 12.817316336919175, 11.898862917500306, 11.6252883173172, 12.086163776024245, 15.745185530331637, 70.54536579117233, 26.37484554445776, 20.995476234311415, 38.9617496262826, 35.58198691014134, 31.092821037920885, 314.52798422227386, 141.48223783014487, 126.5190602150917, 24.296858841015787, 28.892780381421623, 759.9857921464985, 401.23119365908514, 588.8969150814739, 90.48443077555345, 212.99605119042678, 137.57546060430695, 723.9610082886788, 1054.4325807701002, 245.48933046155454, 255.1266362960654, 66.18866775493466, 224.74588774162177, 485.5585276987245, 166.5940519039997, 246.05581430418354, 475.07643008142827, 274.94833946962314, 720.8951417806051, 2296.9019174604528, 593.499540751552, 235.1320865717954, 242.6060567926394, 742.195892335022, 307.23025687329755, 212.5719649028093, 98.24347517139103, 641.8110631032486, 1243.5859564804198, 535.6845963061875, 295.4841188327563, 384.531573979923, 740.8848474530971, 587.6631455204351, 485.5447571198953, 434.22895089430506, 499.5294073074227, 493.03914391395415, 619.6150431805912, 866.8449987936303, 59.44385872705145, 35.18856870816081, 50.6819764711678, 28.27461909328159, 24.108433911864537, 28.295348228269283, 19.869963695833874, 18.623082652971828, 26.20383894468578, 18.2316247023403, 15.091571177454972, 26.107499142230743, 20.939495247225477, 15.683427142221017, 14.860993554029411, 16.359359100400315, 15.999417521959218, 12.585070030721276, 16.343552912784038, 38.155479864190745, 31.895630462174484, 11.621277299668176, 12.236551992330432, 12.980835969372853, 11.628947462624012, 10.313307938865032, 9.838622792486886, 10.580704563911093, 9.529376217513967, 10.557250319357436, 31.66532205038009, 19.756503807133285, 35.354688686106705, 19.336066982723796, 57.90802575956871, 19.690027688992974, 26.853637241844584, 30.390705058322773, 27.406837405138333, 42.93678728108108, 43.252532627881024, 144.26683511912103, 35.8386699273506, 65.57542009900513, 216.243800022173, 72.93007355499518, 48.53074612054005, 1243.5859564804198, 740.8848474530971, 224.54182649365978, 177.67641611055552, 312.11011464049454, 337.7730864105605, 401.9426957185534, 48.84469657416573, 493.03914391395415, 742.195892335022, 308.880631049658, 102.4373074905545, 1054.4325807701002, 81.64069222511596, 516.9429244359236, 361.5078133894552, 485.5585276987245, 135.18549731463312, 109.59937056864939, 520.5753632125108, 202.2335947983798, 198.93285936761254, 282.3968818055476, 232.59857621969198, 193.58254864374942, 240.93835352587766, 720.8951417806051, 452.035159395664, 723.9610082886788, 450.2158227175666, 361.80244088595094, 282.0410533809917, 515.9979107953653, 619.6150431805912, 499.5294073074227, 400.7850096856672, 2296.9019174604528, 641.8110631032486, 475.07643008142827, 32.201252432106735, 32.58620312129101, 30.660858770862326, 22.410981801719178, 22.524908556721538, 19.222827027040523, 23.998019724738377, 32.5599859928972, 36.54872822151889, 16.47711062911012, 22.856246670793013, 15.56607753341353, 15.202411580710024, 36.69707151849833, 36.421172649014316, 15.474700176004118, 15.333306068378997, 13.568504107697352, 13.204572745576217, 16.384979294865737, 13.464382190132518, 56.06891106653747, 38.02834479444233, 12.208280630858223, 19.639079622522413, 15.492094542120538, 16.678951350667024, 13.466847195271688, 11.07531911197483, 10.806271901630748, 24.94818927343942, 36.642387601184474, 81.0807428696531, 29.766230561314366, 25.143867012976052, 23.480043488094832, 34.198708020757635, 33.47574119688341, 93.43096273375448, 63.82781110840328, 25.983113310874927, 182.8165072392217, 98.09080960839162, 87.69968976786782, 96.07257661507697, 68.59134517337142, 190.62362391848254, 109.6016064602747, 108.45070712338737, 132.6693981001254, 512.3425547346784, 97.38898194485384, 151.123937820383, 278.19954401692434, 593.499540751552, 587.6631455204351, 69.58411643186943, 108.00537025339605, 434.22895089430506, 126.01890762587364, 303.1058692915172, 74.45081190496312, 2296.9019174604528, 250.6721255542377, 98.59892063430601, 84.58503186313538, 516.9429244359236, 535.6845963061875, 130.27549248765138, 224.14249711769742, 499.5294073074227, 485.5447571198953, 343.11889333646735, 1243.5859564804198, 337.7730864105605, 377.54205097076544, 286.1053401250274, 493.03914391395415, 446.28571138604514, 720.8951417806051, 740.8848474530971, 742.195892335022, 641.8110631032486], \"Category\": [\"Default\", \"Default\", \"Default\", \"Default\", \"Default\", \"Default\", \"Default\", \"Default\", \"Default\", \"Default\", \"Default\", \"Default\", \"Default\", \"Default\", \"Default\", \"Default\", \"Default\", \"Default\", \"Default\", \"Default\", \"Default\", \"Default\", \"Default\", \"Default\", \"Default\", \"Default\", \"Default\", \"Default\", \"Default\", \"Default\", \"Topic1\", \"Topic1\", \"Topic1\", \"Topic1\", \"Topic1\", \"Topic1\", \"Topic1\", \"Topic1\", \"Topic1\", \"Topic1\", \"Topic1\", \"Topic1\", \"Topic1\", \"Topic1\", \"Topic1\", \"Topic1\", \"Topic1\", \"Topic1\", \"Topic1\", \"Topic1\", \"Topic1\", \"Topic1\", \"Topic1\", \"Topic1\", \"Topic1\", \"Topic1\", \"Topic1\", \"Topic1\", \"Topic1\", \"Topic1\", \"Topic1\", \"Topic1\", \"Topic1\", \"Topic1\", \"Topic1\", \"Topic1\", \"Topic1\", \"Topic1\", \"Topic1\", \"Topic1\", \"Topic1\", \"Topic1\", \"Topic1\", \"Topic1\", \"Topic1\", \"Topic1\", \"Topic1\", \"Topic1\", \"Topic1\", \"Topic1\", \"Topic1\", \"Topic1\", \"Topic1\", \"Topic1\", \"Topic1\", \"Topic1\", \"Topic1\", \"Topic1\", \"Topic1\", \"Topic1\", \"Topic1\", \"Topic1\", \"Topic1\", \"Topic1\", \"Topic1\", \"Topic1\", \"Topic1\", \"Topic1\", \"Topic1\", \"Topic1\", \"Topic1\", \"Topic1\", \"Topic1\", \"Topic1\", \"Topic1\", \"Topic1\", \"Topic1\", \"Topic1\", \"Topic2\", \"Topic2\", \"Topic2\", \"Topic2\", \"Topic2\", \"Topic2\", \"Topic2\", \"Topic2\", \"Topic2\", \"Topic2\", \"Topic2\", \"Topic2\", \"Topic2\", \"Topic2\", \"Topic2\", \"Topic2\", \"Topic2\", \"Topic2\", \"Topic2\", \"Topic2\", \"Topic2\", \"Topic2\", \"Topic2\", \"Topic2\", \"Topic2\", \"Topic2\", \"Topic2\", \"Topic2\", \"Topic2\", \"Topic2\", \"Topic2\", \"Topic2\", \"Topic2\", \"Topic2\", \"Topic2\", \"Topic2\", \"Topic2\", \"Topic2\", \"Topic2\", \"Topic2\", \"Topic2\", \"Topic2\", \"Topic2\", \"Topic2\", \"Topic2\", \"Topic2\", \"Topic2\", \"Topic2\", \"Topic2\", \"Topic2\", \"Topic2\", \"Topic2\", \"Topic2\", \"Topic2\", \"Topic2\", \"Topic2\", \"Topic2\", \"Topic2\", \"Topic2\", \"Topic2\", \"Topic2\", \"Topic2\", \"Topic2\", \"Topic2\", \"Topic2\", \"Topic2\", \"Topic2\", \"Topic2\", \"Topic2\", \"Topic2\", \"Topic2\", \"Topic2\", \"Topic2\", \"Topic2\", \"Topic2\", \"Topic2\", \"Topic2\", \"Topic2\", \"Topic2\", \"Topic3\", \"Topic3\", \"Topic3\", \"Topic3\", \"Topic3\", \"Topic3\", \"Topic3\", \"Topic3\", \"Topic3\", \"Topic3\", \"Topic3\", \"Topic3\", \"Topic3\", \"Topic3\", \"Topic3\", \"Topic3\", \"Topic3\", \"Topic3\", \"Topic3\", \"Topic3\", \"Topic3\", \"Topic3\", \"Topic3\", \"Topic3\", \"Topic3\", \"Topic3\", \"Topic3\", \"Topic3\", \"Topic3\", \"Topic3\", \"Topic3\", \"Topic3\", \"Topic3\", \"Topic3\", \"Topic3\", \"Topic3\", \"Topic3\", \"Topic3\", \"Topic3\", \"Topic3\", \"Topic3\", \"Topic3\", \"Topic3\", \"Topic3\", \"Topic3\", \"Topic3\", \"Topic3\", \"Topic3\", \"Topic3\", \"Topic3\", \"Topic3\", \"Topic3\", \"Topic3\", \"Topic3\", \"Topic3\", \"Topic3\", \"Topic3\", \"Topic3\", \"Topic3\", \"Topic3\", \"Topic3\", \"Topic3\", \"Topic3\", \"Topic3\", \"Topic3\", \"Topic3\", \"Topic3\", \"Topic3\", \"Topic3\", \"Topic3\", \"Topic3\", \"Topic3\", \"Topic3\", \"Topic3\", \"Topic3\", \"Topic3\", \"Topic3\", \"Topic3\", \"Topic3\", \"Topic3\", \"Topic3\", \"Topic3\", \"Topic3\", \"Topic3\", \"Topic3\", \"Topic3\", \"Topic4\", \"Topic4\", \"Topic4\", \"Topic4\", \"Topic4\", \"Topic4\", \"Topic4\", \"Topic4\", \"Topic4\", \"Topic4\", \"Topic4\", \"Topic4\", \"Topic4\", \"Topic4\", \"Topic4\", \"Topic4\", \"Topic4\", \"Topic4\", \"Topic4\", \"Topic4\", \"Topic4\", \"Topic4\", \"Topic4\", \"Topic4\", \"Topic4\", \"Topic4\", \"Topic4\", \"Topic4\", \"Topic4\", \"Topic4\", \"Topic4\", \"Topic4\", \"Topic4\", \"Topic4\", \"Topic4\", \"Topic4\", \"Topic4\", \"Topic4\", \"Topic4\", \"Topic4\", \"Topic4\", \"Topic4\", \"Topic4\", \"Topic4\", \"Topic4\", \"Topic4\", \"Topic4\", \"Topic4\", \"Topic4\", \"Topic4\", \"Topic4\", \"Topic4\", \"Topic4\", \"Topic4\", \"Topic4\", \"Topic4\", \"Topic4\", \"Topic4\", \"Topic4\", \"Topic4\", \"Topic4\", \"Topic4\", \"Topic4\", \"Topic4\", \"Topic4\", \"Topic4\", \"Topic4\", \"Topic4\", \"Topic4\", \"Topic4\", \"Topic4\", \"Topic4\", \"Topic4\", \"Topic4\", \"Topic4\", \"Topic4\", \"Topic4\", \"Topic4\", \"Topic4\", \"Topic4\", \"Topic4\", \"Topic4\", \"Topic4\"], \"logprob\": [30.0, 29.0, 28.0, 27.0, 26.0, 25.0, 24.0, 23.0, 22.0, 21.0, 20.0, 19.0, 18.0, 17.0, 16.0, 15.0, 14.0, 13.0, 12.0, 11.0, 10.0, 9.0, 8.0, 7.0, 6.0, 5.0, 4.0, 3.0, 2.0, 1.0, -6.557, -6.791, -6.9466, -6.6234, -7.2407, -7.1616, -7.3857, -7.204, -7.2378, -7.2371, -7.4892, -7.5036, -7.2026, -7.4748, -7.6399, -6.4829, -7.4106, -7.5445, -7.5573, -7.5564, -7.5007, -7.5829, -7.8907, -7.8758, -7.4461, -6.8545, -7.4304, -7.5777, -7.8446, -6.7695, -6.8292, -6.5776, -7.1716, -7.3634, -4.4809, -3.9145, -4.7618, -5.1479, -7.246, -6.5733, -5.0362, -4.571, -4.5468, -6.7228, -3.3172, -4.8841, -6.365, -4.7702, -5.2182, -5.902, -4.5847, -5.1051, -5.7352, -5.7914, -5.7882, -6.1284, -5.3727, -4.864, -5.0723, -5.0082, -5.263, -5.3361, -5.1103, -5.4661, -5.549, -5.2114, -4.9065, -5.7923, -5.3625, -5.6517, -4.6958, -5.3131, -5.4025, -5.4125, -5.1421, -5.3701, -5.0543, -5.326, -6.7866, -6.8041, -6.2936, -7.0906, -6.879, -7.3229, -7.1496, -7.1588, -7.1858, -7.4547, -7.4279, -7.3299, -7.359, -7.6189, -7.628, -7.1742, -7.4955, -7.7263, -7.3996, -7.7185, -7.7033, -7.6528, -7.3736, -7.1885, -7.8118, -7.8881, -7.9147, -7.8764, -7.6131, -6.1164, -7.1066, -7.3314, -6.7286, -6.8215, -6.9529, -4.735, -5.5117, -5.6472, -7.1986, -7.0456, -4.1125, -4.6976, -4.3632, -6.0348, -5.3061, -5.7081, -4.3027, -4.065, -5.2967, -5.2759, -6.3813, -5.4045, -4.8043, -5.6566, -5.3606, -4.8655, -5.2983, -4.5992, -3.7307, -4.776, -5.4529, -5.4315, -4.6595, -5.3146, -5.5911, -6.1017, -4.8864, -4.5008, -5.0403, -5.4171, -5.3055, -5.0103, -5.1272, -5.2112, -5.2871, -5.2846, -5.2954, -5.3569, -5.3502, -5.9103, -6.4427, -6.0795, -6.6685, -6.8312, -6.6748, -7.0303, -7.1031, -6.762, -7.1262, -7.3187, -6.7722, -6.9932, -7.284, -7.3385, -7.2459, -7.271, -7.5123, -7.252, -6.4082, -6.5883, -7.6017, -7.5511, -7.494, -7.6051, -7.7274, -7.7748, -7.7038, -7.8108, -7.7113, -6.6163, -7.0854, -6.5098, -7.1144, -6.0638, -7.1032, -6.8336, -6.7292, -6.8269, -6.4312, -6.4251, -5.4262, -6.6038, -6.1091, -5.174, -6.044, -6.3756, -3.7926, -4.2351, -5.2091, -5.3999, -4.9969, -4.9411, -4.8479, -6.3918, -4.7945, -4.5139, -5.1283, -5.8827, -4.3952, -6.042, -4.9023, -5.1324, -4.9641, -5.7379, -5.8756, -4.9588, -5.563, -5.5881, -5.41, -5.5084, -5.6166, -5.5161, -5.0316, -5.2431, -5.0502, -5.267, -5.3772, -5.4764, -5.2809, -5.2287, -5.3193, -5.3847, -4.9961, -5.3696, -5.4136, -6.4522, -6.4435, -6.5054, -6.8259, -6.8209, -6.9855, -6.7646, -6.4609, -6.346, -7.1456, -6.8197, -7.2041, -7.2294, -6.3491, -6.3576, -7.214, -7.2235, -7.348, -7.3801, -7.1653, -7.3622, -5.9362, -6.3262, -7.4646, -6.9905, -7.2284, -7.1547, -7.3708, -7.5685, -7.5948, -6.7595, -6.3793, -5.6085, -6.596, -6.7623, -6.8308, -6.4777, -6.5136, -5.5709, -5.9244, -6.7486, -5.018, -5.5792, -5.6788, -5.6236, -5.9582, -5.162, -5.6278, -5.6398, -5.505, -4.5189, -5.7501, -5.4783, -5.0879, -4.5806, -4.6206, -6.0582, -5.7986, -4.9991, -5.7291, -5.2639, -6.0233, -4.288, -5.4331, -5.8881, -5.9632, -5.1314, -5.1467, -5.7789, -5.5538, -5.2233, -5.2513, -5.3904, -5.007, -5.4415, -5.4363, -5.5243, -5.3946, -5.4287, -5.368, -5.4321, -5.4893, -5.5284], \"loglift\": [30.0, 29.0, 28.0, 27.0, 26.0, 25.0, 24.0, 23.0, 22.0, 21.0, 20.0, 19.0, 18.0, 17.0, 16.0, 15.0, 14.0, 13.0, 12.0, 11.0, 10.0, 9.0, 8.0, 7.0, 6.0, 5.0, 4.0, 3.0, 2.0, 1.0, 1.1507, 1.1471, 1.1405, 1.1383, 1.1374, 1.1359, 1.1322, 1.1298, 1.1289, 1.1289, 1.1276, 1.1255, 1.1252, 1.1245, 1.1225, 1.1218, 1.1215, 1.1201, 1.12, 1.1191, 1.1148, 1.1116, 1.1112, 1.1106, 1.1089, 1.1072, 1.1067, 1.1051, 1.1038, 1.1031, 1.0948, 1.0859, 1.0941, 1.098, 0.9739, 0.8669, 0.9285, 0.8831, 1.0893, 1.0227, 0.8631, 0.7568, 0.7533, 1.0173, 0.4896, 0.7177, 0.9571, 0.675, 0.718, 0.8301, 0.5324, 0.6524, 0.773, 0.7712, 0.7672, 0.8513, 0.5931, 0.4272, 0.4509, 0.4242, 0.5031, 0.5328, 0.4388, 0.5718, 0.5853, 0.3827, 0.1754, 0.6456, 0.3456, 0.538, -0.2753, 0.2368, 0.2525, 0.2639, -0.1764, 0.1827, -0.4689, -0.4132, 1.2228, 1.2202, 1.2196, 1.2156, 1.2116, 1.2081, 1.2074, 1.2066, 1.2031, 1.202, 1.2012, 1.1986, 1.1946, 1.1942, 1.1942, 1.1903, 1.1871, 1.1868, 1.1862, 1.1843, 1.1843, 1.1842, 1.1837, 1.1837, 1.1836, 1.1817, 1.1783, 1.1778, 1.1766, 1.1735, 1.1672, 1.1704, 1.155, 1.1528, 1.1563, 1.0601, 1.0824, 1.0586, 1.1572, 1.137, 0.8004, 0.8541, 0.8047, 1.0062, 0.8788, 0.914, 0.6588, 0.5204, 0.7462, 0.7286, 0.9724, 0.7267, 0.5566, 0.774, 0.68, 0.5172, 0.6313, 0.3665, 0.0762, 0.3842, 0.6332, 0.6233, 0.2771, 0.5039, 0.5958, 0.8571, 0.1955, -0.0804, 0.2224, 0.4404, 0.2886, -0.072, 0.0428, 0.1497, 0.1855, 0.048, 0.0502, -0.2398, -0.5689, 1.5509, 1.5427, 1.5411, 1.5357, 1.5325, 1.5286, 1.5267, 1.5187, 1.5183, 1.5169, 1.5134, 1.5118, 1.5113, 1.5096, 1.509, 1.5055, 1.5026, 1.5013, 1.5003, 1.4963, 1.4954, 1.4916, 1.4907, 1.4887, 1.4876, 1.4854, 1.4851, 1.4834, 1.481, 1.4781, 1.4747, 1.4773, 1.4709, 1.4698, 1.4235, 1.4629, 1.4221, 1.4029, 1.4085, 1.3553, 1.354, 1.1483, 1.3633, 1.2539, 0.9958, 1.2126, 1.2884, 0.6279, 0.7032, 0.923, 0.9663, 0.806, 0.7827, 0.702, 1.2657, 0.5511, 0.4227, 0.6849, 1.0342, 0.1902, 1.1018, 0.396, 0.5235, 0.3967, 0.9017, 0.9737, 0.3325, 0.6738, 0.6651, 0.4929, 0.5885, 0.6639, 0.5455, -0.066, 0.1893, -0.0887, 0.1695, 0.2779, 0.4277, 0.0192, -0.1116, 0.0132, 0.1681, -1.1892, -0.2877, -0.0309, 1.622, 1.6188, 1.6178, 1.6108, 1.6107, 1.6045, 1.6036, 1.6022, 1.6015, 1.5986, 1.5972, 1.597, 1.5954, 1.5944, 1.5934, 1.5929, 1.5927, 1.5905, 1.5855, 1.5845, 1.5839, 1.5834, 1.5817, 1.5795, 1.5782, 1.5775, 1.5774, 1.5752, 1.573, 1.5713, 1.5699, 1.5657, 1.5422, 1.5568, 1.5593, 1.5593, 1.5363, 1.5218, 1.438, 1.4656, 1.5402, 1.3197, 1.3811, 1.3935, 1.3575, 1.3598, 1.1339, 1.2216, 1.2201, 1.1533, 0.7883, 1.2174, 1.0498, 0.8299, 0.5795, 0.5494, 1.2454, 1.0654, 0.4735, 0.9807, 0.5682, 1.2128, -0.4811, 0.5889, 1.067, 1.1452, 0.1669, 0.1159, 0.8976, 0.5801, 0.1093, 0.1096, 0.3177, -0.5866, 0.2823, 0.1762, 0.3655, -0.049, 0.0165, -0.4023, -0.4938, -0.5527, -0.4465]}, \"token.table\": {\"Topic\": [2, 2, 3, 4, 1, 2, 3, 4, 3, 2, 4, 1, 2, 3, 4, 1, 4, 1, 3, 4, 1, 2, 3, 4, 1, 2, 4, 1, 2, 3, 4, 1, 2, 3, 4, 3, 1, 2, 3, 4, 2, 1, 2, 3, 4, 1, 2, 3, 4, 1, 2, 3, 4, 1, 2, 3, 4, 2, 3, 1, 2, 3, 1, 2, 3, 4, 3, 1, 2, 3, 4, 1, 4, 1, 2, 3, 4, 1, 2, 3, 4, 4, 3, 1, 3, 1, 2, 3, 4, 1, 2, 2, 3, 4, 4, 1, 2, 3, 4, 4, 1, 2, 3, 4, 1, 2, 3, 4, 1, 2, 3, 4, 1, 3, 1, 1, 2, 3, 4, 2, 3, 4, 1, 2, 3, 4, 1, 2, 3, 4, 2, 3, 1, 2, 3, 4, 4, 1, 3, 4, 4, 3, 1, 1, 2, 3, 4, 2, 1, 2, 3, 4, 2, 4, 1, 2, 3, 4, 1, 2, 3, 4, 3, 4, 2, 3, 4, 4, 1, 2, 1, 2, 3, 4, 1, 4, 1, 2, 4, 4, 4, 3, 2, 3, 3, 3, 4, 1, 2, 3, 4, 4, 1, 2, 3, 4, 1, 2, 3, 4, 1, 2, 3, 4, 2, 1, 2, 3, 4, 1, 2, 3, 4, 1, 1, 2, 3, 4, 2, 1, 2, 3, 4, 1, 2, 3, 4, 1, 2, 3, 4, 1, 4, 1, 1, 2, 3, 4, 1, 2, 3, 4, 1, 2, 3, 4, 1, 2, 3, 4, 2, 3, 1, 2, 3, 4, 1, 2, 3, 4, 1, 2, 3, 4, 1, 2, 3, 4, 3, 1, 1, 2, 3, 4, 1, 2, 4, 1, 2, 3, 4, 1, 2, 3, 4, 2, 1, 2, 4, 1, 2, 3, 4, 1, 2, 3, 4, 3, 1, 2, 3, 4, 1, 3, 4, 2, 3, 1, 2, 3, 4, 2, 3, 4, 1, 2, 3, 4, 1, 2, 3, 4, 1, 2, 4, 1, 1, 1, 2, 3, 4, 3, 4, 4, 3, 1, 2, 3, 4, 2, 2, 3, 1, 2, 1, 2, 3, 4, 4, 1, 2, 1, 2, 3, 4, 1, 3, 4, 2, 3, 1, 2, 3, 4, 1, 2, 3, 4, 1, 2, 3, 1, 2, 3, 4, 1, 2, 3, 4, 2, 1, 2, 3, 4, 1, 2, 3, 4, 1, 2, 3, 4, 1, 2, 3, 4, 1, 2, 3, 4, 3, 1, 2, 3, 4, 3, 3, 4, 1, 2, 3, 4, 2, 4, 3, 2, 1, 2, 3, 4, 3, 1, 2, 3, 4, 3, 2, 1, 2, 3, 4, 1, 2, 3, 4, 1, 2, 3, 4, 1, 2, 3, 4, 1, 2, 3, 4, 1, 2, 3, 4, 2, 1, 1, 1, 2, 3, 4, 2, 1, 2, 3, 4, 1, 2, 3, 4, 4, 1, 2, 3, 4, 1, 2, 3, 4, 1, 2, 3, 4, 4, 2, 3, 2, 4, 1, 2, 3, 3, 1, 2, 3, 4, 4, 1, 2, 3, 4, 1, 2, 3, 4, 1, 2, 3, 4, 2, 1, 2, 3, 4, 2, 1, 4, 1, 1, 2, 3, 4, 2, 3, 4, 1, 2, 3, 4, 1, 2, 3, 4, 1, 2, 3, 4, 1, 3, 1, 2, 3, 4, 1, 2, 3, 4, 1, 3, 4, 1, 2, 3, 4, 1, 2, 3, 4, 1, 2, 4, 1, 1, 2, 3, 4, 2, 4, 1, 2, 3, 4, 1, 1, 4, 1, 4, 1, 2, 3, 4, 1, 2, 3, 4, 1, 2, 2, 1, 2, 3, 4, 1, 1, 2, 3, 4, 3, 1, 2, 3, 4, 1, 2, 3, 4, 1, 2, 1, 2, 3, 4, 2, 4, 1, 2, 3, 4, 1, 2, 1, 2, 3, 4, 1, 2, 3, 4, 4, 4, 2, 2, 4, 1, 2, 3, 4, 4, 1, 2, 3, 4, 1, 1, 2, 3, 4, 1, 2, 3, 4, 1, 2, 3, 4, 1, 1, 1, 2, 3, 4, 1, 2, 3, 4, 1, 2, 3, 4, 3, 1, 2, 3, 4, 1, 2, 3, 4, 1, 2, 3, 4, 1, 2, 2, 1, 2, 3, 4, 1, 2, 3, 4, 1, 2, 3, 4, 1, 4, 1, 1, 2, 3, 4, 3, 3, 2, 4, 1, 2, 3, 4, 1, 2, 3, 1, 1, 2, 3, 4, 1, 2, 3, 4, 1, 2, 3, 4, 1, 2, 3, 4, 2, 1, 2, 3, 4, 1, 2, 3, 4, 1, 1, 2, 4, 1, 2, 1, 2, 3, 4, 4], \"Freq\": [0.9362334270735782, 0.035670391344440104, 0.017835195672220052, 0.9452653706276627, 0.4400806919481616, 0.17486650011185229, 0.11949210840976572, 0.2652141918363093, 0.9542204528525601, 0.9239831461705027, 0.07699859551420855, 0.7141274639581823, 0.03246033927082647, 0.20287712044266543, 0.05680559372394632, 0.9278138343559239, 0.9253885235379766, 0.13951410613551274, 0.8091818155859738, 0.027902821227102546, 0.4041964764824662, 0.16309682384380214, 0.31910248143352593, 0.10991307693821449, 0.01233338477926403, 0.0863336934548482, 0.9003370888862742, 0.15987064148255858, 0.12730439969907442, 0.4559273849687782, 0.25460879939814884, 0.11560016711661755, 0.023120033423323513, 0.809201169816323, 0.06936010026997054, 0.9375341308152302, 0.37146179242456606, 0.028141044880648943, 0.5515644796607193, 0.050653880785168096, 0.9896241109993401, 0.2950649271801678, 0.04610389487190122, 0.009220778974380244, 0.6546753071809973, 0.18997679919300012, 0.37995359838600024, 0.3193227050265321, 0.11048296123280857, 0.27423529176778333, 0.013711764588389165, 0.6992999940078475, 0.013711764588389165, 0.28215157798018214, 0.18256866810482375, 0.3513063765047366, 0.18256866810482375, 0.9791660168147834, 0.9169063352630329, 0.026208555194676214, 0.026208555194676214, 0.9435079870083437, 0.05180629041742596, 0.05180629041742596, 0.863438173623766, 0.03453752694495064, 0.9420635268497266, 0.4007712044311707, 0.3012693881586042, 0.27639393409046253, 0.02487545406814163, 0.9132073838328815, 0.05707546148955509, 0.666436295689355, 0.1564085183760731, 0.03400185182088546, 0.13600740728354185, 0.3204941004290129, 0.29400698469107794, 0.1562739828538162, 0.23043790692003405, 0.9087760907690277, 0.9147621765591738, 0.038162347208396466, 0.9540586802099116, 0.3719848004760929, 0.13069736232943804, 0.4071725518724801, 0.09048278930499558, 0.051795822337880326, 0.9323248020818459, 0.03848653500585173, 0.07697307001170346, 0.8851903051345898, 0.9784461754381664, 0.5511970992337675, 0.18238139312882012, 0.17832847328151302, 0.08916423664075651, 0.9766965288493967, 0.482281024242374, 0.2734583127147482, 0.18644884957823737, 0.0571776472039928, 0.2356089649236991, 0.2653616328492174, 0.3916094399926329, 0.10694877929983611, 0.6589173965373618, 0.10271359416611817, 0.21317915770326412, 0.025193900455840305, 0.0631605766338951, 0.9158283611914789, 0.9756886127617228, 0.041210988082326726, 0.18544944637047026, 0.7624032795230444, 0.020605494041163363, 0.02629617474558465, 0.02629617474558465, 0.9466622908410475, 0.9423866318820282, 0.027290798047441504, 0.027290798047441504, 0.9278871336130111, 0.05656958311121936, 0.02828479155560968, 0.9051133297795098, 0.02828479155560968, 0.05061624312490654, 0.9110923762483177, 0.24567509099496723, 0.21665834796406558, 0.3095119256629508, 0.22826504517642623, 0.9653335937875941, 0.8663570063312992, 0.09626188959236658, 0.019252377918473316, 0.9581011950038882, 0.9662228743084638, 0.9662813718838017, 0.1580820532624025, 0.0143710957511275, 0.1580820532624025, 0.6754415003029924, 0.9322961707089844, 0.07297449065119176, 0.03648724532559588, 0.8392066424887052, 0.03648724532559588, 0.9548108399414071, 0.041513514780061184, 0.01824790771406169, 0.31021443113904873, 0.009123953857030844, 0.6569246777062208, 0.7276022683882369, 0.1663090899173113, 0.08315454495865565, 0.020788636239663913, 0.06454905095506351, 0.9036867133708892, 0.042589358938241895, 0.042589358938241895, 0.9369658966413217, 0.9584124133496912, 0.9543441965322991, 0.9185799420458933, 0.7383096180870563, 0.16265883773480458, 0.049605177465224096, 0.04845156868696307, 0.9769998762571729, 0.022720927354817972, 0.07187671397944918, 0.27723875392073255, 0.6468904258150426, 0.9820106957810008, 0.9029085210906316, 0.9444479674817507, 0.9054668401357943, 0.0411575836425361, 0.9244396915817248, 0.027250130831173218, 0.9537545790910626, 0.8211916969070323, 0.1131118039816849, 0.04298248551304026, 0.022622360796336977, 0.9154726246556978, 0.2547754360096286, 0.5957825580532853, 0.09799055231139561, 0.05487470929438154, 0.47562671958402164, 0.1305208207230571, 0.252192772244551, 0.14379412452540188, 0.40377069302181573, 0.23717998750931835, 0.21741498855020847, 0.14117856399364187, 0.9105834152249666, 0.10688431805678604, 0.3251064674227242, 0.525514563779198, 0.044535132523660856, 0.09124139991056184, 0.23722763976746078, 0.5565725394544272, 0.11861381988373039, 0.9679744431343574, 0.22809938029418725, 0.6242719881735651, 0.036015691625397986, 0.10804707487619396, 0.9462130916455843, 0.03723890328129381, 0.07447780656258762, 0.8564947754697577, 0.03723890328129381, 0.5126636381459595, 0.10500339576483508, 0.27177349492074965, 0.11118006610394303, 0.18527839072906604, 0.2249809030281516, 0.03970251229908558, 0.5492180868040172, 0.06719023411043845, 0.9070681604909191, 0.9562852294953625, 0.455099169591564, 0.3848838691402941, 0.11442493406873608, 0.044209633617466215, 0.2899940923111446, 0.3390700156253383, 0.026768685444105652, 0.34353146319935585, 0.2538807367950989, 0.36028663383422127, 0.17174285136139045, 0.21654533432523143, 0.04225430447982178, 0.6948485625570693, 0.14084768159940594, 0.12206799071948515, 0.9784190462738573, 0.8989460435337118, 0.20725310251703166, 0.14584477584531857, 0.17654893918117512, 0.4759145317057764, 0.12036273833375098, 0.34448645798970107, 0.36108821500125293, 0.17016800936840656, 0.07582145715397898, 0.42291523879219384, 0.15669767811822322, 0.34372393909803806, 0.04008306931776526, 0.04008306931776526, 0.04008306931776526, 0.9219105943086009, 0.9540229815044501, 0.9752006788396711, 0.5293609372624642, 0.22594674151446642, 0.18721301439770074, 0.058100590675148514, 0.3357921741929778, 0.013431686967719111, 0.6447209744505173, 0.533036644248906, 0.3915224909084884, 0.037737107557444666, 0.04245424600212525, 0.13724654735588254, 0.04574884911862752, 0.7319815858980403, 0.09149769823725504, 0.9244580827821539, 0.9273679747552621, 0.04032034672848966, 0.04032034672848966, 0.23364524276878654, 0.22286161617945793, 0.10064718150040035, 0.44212869016247297, 0.1754238122577989, 0.5566598136999446, 0.19061800072107282, 0.07735223217666724, 0.9535107846604692, 0.0749216297807778, 0.06421853981209524, 0.042812359874730165, 0.8134348376198731, 0.027360733154354392, 0.027360733154354392, 0.9576256604024037, 0.9099579354709513, 0.0379149139779563, 0.737430017120675, 0.19053215753357153, 0.05645397260253972, 0.021170239725952392, 0.7846653771422338, 0.19892925054310154, 0.011051625030172308, 0.6615022692981093, 0.1793229043278007, 0.08766897544914702, 0.07172916173112029, 0.27225624359749107, 0.302284505758979, 0.2121997192745151, 0.2142016034186143, 0.9515211041249639, 0.01941879804336661, 0.01941879804336661, 0.9902402097710696, 0.9239260566391791, 0.3717703916043657, 0.30190749922233723, 0.24701522663645775, 0.0798433055794611, 0.9551328608386603, 0.047756643041933014, 0.959292923374354, 0.9459153578046956, 0.014579098827591161, 0.20410738358627625, 0.029158197655182322, 0.7581131390347404, 0.9452718951426452, 0.05171682539647129, 0.9309028571364832, 0.04183738654256805, 0.9204225039364972, 0.04480846470727852, 0.6069510219440454, 0.18738085241225563, 0.16293987166283097, 0.9363867226542492, 0.056208215832656984, 0.8993314533225117, 0.005469965568762702, 0.257088381731847, 0.016409896706288108, 0.7220354550766768, 0.03135225689255195, 0.9405677067765585, 0.03135225689255195, 0.9526721657934035, 0.06351147771956024, 0.7844816488646422, 0.10307058160265373, 0.02576764540066343, 0.08589215133554477, 0.3692675518151261, 0.35057046058398045, 0.15736718452880902, 0.12308918393837537, 0.9267565996478573, 0.061783773309857154, 0.9324456968345666, 0.3780716947796416, 0.05126395861418869, 0.4677836223544718, 0.10252791722837738, 0.24795623539565312, 0.2272932157793487, 0.4080946374220124, 0.11881236279375045, 0.9529255817743869, 0.3018748909708182, 0.5419199849958062, 0.025459328154165392, 0.13093368764999344, 0.19301245057391034, 0.26724800848695274, 0.4224678113960415, 0.11742715524426713, 0.26078688716869636, 0.41476212374170324, 0.19559016537652224, 0.12900627929089767, 0.3109619718714907, 0.2865292455101593, 0.24654842055525336, 0.15548098593574536, 0.6367445747952591, 0.15460053462107115, 0.1493598385322213, 0.0602680050217735, 0.9472163392454871, 0.33286486521733755, 0.21246693524510907, 0.343488211979593, 0.1133156987973915, 0.9549200260107321, 0.9141683437074227, 0.05078713020596793, 0.34167239316815573, 0.05857241025739812, 0.5857241025739812, 0.009762068376233021, 0.9746426502337843, 0.01772077545879608, 0.9696210041703156, 0.9782919290520262, 0.5970916582433982, 0.14697640818299032, 0.20515456975542398, 0.05205414456480907, 0.9665424535463576, 0.28205987819061523, 0.4820277022809768, 0.20207274855447063, 0.033678791425745105, 0.9177930943195893, 0.9557372071987978, 0.17815557358298656, 0.3035243105487919, 0.17815557358298656, 0.33981526072310403, 0.10176233420193044, 0.7196050775707938, 0.007268738157280746, 0.17444971577473792, 0.027726400157716102, 0.1386320007885805, 0.6585020037457574, 0.17329000098572564, 0.1325302548923794, 0.07136244494205045, 0.030583904975164476, 0.7645976243791119, 0.21280360843423554, 0.1300466495986995, 0.04728969076316346, 0.6029435572303341, 0.19190930619772484, 0.6754210646699147, 0.062308216297962606, 0.06978520225371812, 0.9341566897624597, 0.9271034578663804, 0.967910799264382, 0.561864791789616, 0.17346161357263315, 0.1960870414299331, 0.06787628357189993, 0.9101316351364602, 0.39309086017235173, 0.08707708927868552, 0.4204579453742243, 0.097028756624821, 0.3214104959406119, 0.12856419837624475, 0.4104164794318582, 0.13845375209749433, 0.9693241115753433, 0.04700145513222893, 0.09400291026445785, 0.03133430342148595, 0.8303590406693777, 0.07002245467944093, 0.5025140865230466, 0.31098207813516415, 0.11533110182496153, 0.5067695712871211, 0.31041813086573655, 0.0635638809346389, 0.11929111901432231, 0.9782626090620891, 0.9476925113239207, 0.9564236097108407, 0.030712543924869783, 0.9520888616709633, 0.9434885460402477, 0.05549932623766163, 0.9276701435112568, 0.9451166450775147, 0.6370073543768622, 0.13911654865701586, 0.09884596878261655, 0.12813366323672515, 0.9816615887088155, 0.03179367338243931, 0.829814875281666, 0.012717469352975724, 0.12399532619151331, 0.15573143674262735, 0.5962289292432019, 0.14238302787897358, 0.10678727090923018, 0.2821573047408494, 0.33364586400012847, 0.16682293200006423, 0.214192406518601, 0.978716179625167, 0.21946240186481897, 0.5689765974273084, 0.056897659742730845, 0.15037238646293152, 0.9736496591627044, 0.027456556921899754, 0.9609794922664914, 0.9631824341977026, 0.18517597738961625, 0.19443477625909708, 0.0648115920863657, 0.5555279321688488, 0.08961713446032077, 0.029872378153440255, 0.8961713446032077, 0.06361222537916641, 0.8481630050555522, 0.04240815025277761, 0.04240815025277761, 0.17694955833350823, 0.05204398774514948, 0.02081759509805979, 0.7494334235301525, 0.29121706228243976, 0.21143156576670283, 0.15159244337990013, 0.3470669098434556, 0.0383031708457448, 0.9575792711436201, 0.3792016233140186, 0.036995280323318884, 0.564178024930613, 0.018497640161659442, 0.15211773938397294, 0.30220724224282625, 0.3630543379964154, 0.18456952378588715, 0.03977112985380998, 0.03977112985380998, 0.9147359866376297, 0.6712505211898238, 0.10274242671272812, 0.13014040716945563, 0.09589293159854625, 0.10236525868080695, 0.02047305173616139, 0.73702986250181, 0.14331136215312973, 0.047629307801352515, 0.9049568482256978, 0.9710440355806553, 0.9327484757327943, 0.3920538893062387, 0.029588972777829334, 0.5178070236120134, 0.066575188750116, 0.08772261215771912, 0.9064669922964309, 0.20526699526762823, 0.640801453175224, 0.12105489464501151, 0.03157953773348127, 0.9649613556170498, 0.9353889994986722, 0.0534507999713527, 0.805135370540783, 0.1756658990270799, 0.19441736127906742, 0.484620837139529, 0.25226838097674115, 0.06828317079069685, 0.08291286579666486, 0.23366353088151004, 0.0753753325424226, 0.610540193593623, 0.06922144472070338, 0.8998787813691439, 0.9807312954129368, 0.21846115756829695, 0.5358481223373321, 0.20609543166820468, 0.037097177700276845, 0.9705356201999901, 0.30107450918686124, 0.5221761018709624, 0.10349436253298355, 0.0705643380906706, 0.9668131239490108, 0.33504338707297465, 0.4467245160972995, 0.1252182355727279, 0.09137546920172036, 0.7526709711477935, 0.1851490089454465, 0.02012489227667897, 0.04829974146402952, 0.9393204158569141, 0.05077407653280617, 0.20636411787260237, 0.2923491669861867, 0.37833421609977097, 0.12467832121469725, 0.9749786662362645, 0.9209065236573561, 0.5578850504770557, 0.13389241211449338, 0.23208018099845518, 0.08033544726869603, 0.05034785641069863, 0.956609271803274, 0.27218743699813247, 0.5401219452931691, 0.1063232175773955, 0.07655271665572476, 0.35301682924150674, 0.21320818399734565, 0.1537895097685772, 0.27612207435721814, 0.9655103231938228, 0.9636338999212608, 0.9700144659516059, 0.9005294169303946, 0.06432352978074247, 0.6094750359702086, 0.08066581358429231, 0.11427656924441411, 0.19494238282870643, 0.9010277804554955, 0.18678990699888706, 0.6435761341143472, 0.10528158394482724, 0.0662255124814236, 0.9450131116516743, 0.08574155619232389, 0.24497587483521113, 0.6246884808297883, 0.03674638122528167, 0.8671121515223399, 0.02223364491082923, 0.04446728982165846, 0.06670093473248769, 0.10142098854295825, 0.19269987823162069, 0.14198938396014155, 0.5578154369862703, 0.9735855286953626, 0.95275368323293, 0.476395960172938, 0.12870374730478568, 0.29198462075115555, 0.10565232987706286, 0.9617324889581135, 0.023290051802283367, 0.8151518130799179, 0.16303036261598358, 0.06323157938732245, 0.8299144794586072, 0.07903947423415306, 0.031615789693661224, 0.9925331441034217, 0.40468707790196157, 0.10359989194290216, 0.41439956777160863, 0.07769991895717662, 0.5304972667514491, 0.3354111751073679, 0.11636714238418885, 0.01711281505649836, 0.06841529332522601, 0.12542803776291436, 0.02280509777507534, 0.7753733243525616, 0.9402197712986783, 0.037608790851947134, 0.9753100042874839, 0.23312675134438224, 0.3011929561164646, 0.1327290993055607, 0.33352440338320377, 0.6746108992836627, 0.27243901701840223, 0.04540650283640037, 0.01297328652468582, 0.05554722011066529, 0.1904476118079953, 0.23805951475999412, 0.5157956153133206, 0.9605255074930773, 0.04002189614554488, 0.9570281278977285, 0.09871439291200065, 0.032904797637333554, 0.8555247385706723, 0.032904797637333554, 0.9465396717032202, 0.9562171471900435, 0.05091888312592734, 0.9165398962666922, 0.27911013574512455, 0.21470010441932658, 0.08197640350556105, 0.4235447514453988, 0.05670110226433241, 0.9355681873614848, 0.014175275566083103, 0.9373885820533051, 0.1269406223101382, 0.4752136117251327, 0.1985481528440623, 0.1985481528440623, 0.015108326454046896, 0.7554163227023448, 0.19640824390260964, 0.03021665290809379, 0.23082133838152175, 0.13114848771677373, 0.03672157656069664, 0.5980371039884882, 0.13126715729710586, 0.3454398876239628, 0.21186979774269718, 0.3085929662774068, 0.9246227752810765, 0.4869274333649075, 0.1938019635283214, 0.21560468442525757, 0.10416855539647275, 0.14250310237475056, 0.6819791327934491, 0.09160913724091108, 0.09160913724091108, 0.9676867794458599, 0.9604608480009001, 0.043751715423943856, 0.9625377393267648, 0.9147745264038011, 0.045738726320190055, 0.5925425411294377, 0.17534422135462954, 0.16929786889412507, 0.06650987706554913, 0.9626954748223082], \"Term\": [\"3rd\", \"=\", \"=\", \"=\", \"able\", \"able\", \"able\", \"able\", \"absolute\", \"addition\", \"addition\", \"aggressive\", \"aggressive\", \"aggressive\", \"aggressive\", \"agressive\", \"amusement\", \"anymore\", \"anymore\", \"anymore\", \"apart\", \"apart\", \"apart\", \"apart\", \"arrive\", \"arrive\", \"arrive\", \"away\", \"away\", \"away\", \"away\", \"awhile\", \"awhile\", \"awhile\", \"awhile\", \"bar\", \"battery\", \"battery\", \"battery\", \"battery\", \"beagle\", \"bell\", \"bell\", \"bell\", \"bell\", \"big\", \"big\", \"big\", \"big\", \"bird\", \"bird\", \"bird\", \"bird\", \"bit\", \"bit\", \"bit\", \"bit\", \"blind\", \"block\", \"border\", \"border\", \"border\", \"bored\", \"bored\", \"bored\", \"bored\", \"boredom\", \"bounce\", \"bounce\", \"bounce\", \"bounce\", \"brain\", \"brain\", \"brand\", \"brand\", \"brand\", \"brand\", \"break\", \"break\", \"break\", \"break\", \"breakfast\", \"bump\", \"bunch\", \"bunch\", \"busy\", \"busy\", \"busy\", \"busy\", \"button\", \"button\", \"cabinet\", \"cabinet\", \"cabinet\", \"cage\", \"carry\", \"carry\", \"carry\", \"carry\", \"certainly\", \"chase\", \"chase\", \"chase\", \"chase\", \"chew\", \"chew\", \"chew\", \"chew\", \"chewer\", \"chewer\", \"chewer\", \"chewer\", \"chihuahua\", \"chihuahua\", \"child\", \"choke\", \"choke\", \"choke\", \"choke\", \"class=\\\"a-link-normal\", \"class=\\\"a-link-normal\", \"class=\\\"a-link-normal\", \"cloth\", \"cm_cr_arp_d_rvw_txt?ie\", \"cm_cr_arp_d_rvw_txt?ie\", \"cm_cr_arp_d_rvw_txt?ie\", \"collie\", \"collie\", \"collie\", \"collie\", \"colorful\", \"colorful\", \"come\", \"come\", \"come\", \"come\", \"connect\", \"constant\", \"constant\", \"constant\", \"contain\", \"cool\", \"corgi\", \"couch\", \"couch\", \"couch\", \"couch\", \"count\", \"crate\", \"crate\", \"crate\", \"crate\", \"currently\", \"currently\", \"cute\", \"cute\", \"cute\", \"cute\", \"damage\", \"damage\", \"damage\", \"damage\", \"data-hook=\\\"product-link-linke\", \"data-hook=\\\"product-link-linke\", \"data-hook=\\\"product-link-linked\", \"data-hook=\\\"product-link-linked\", \"data-hook=\\\"product-link-linked\", \"date\", \"dead\", \"defective\", \"destroy\", \"destroy\", \"destroy\", \"destroy\", \"die\", \"die\", \"dispense\", \"dispense\", \"dispense\", \"dispenser\", \"distract\", \"doggy\", \"dollar\", \"dollar\", \"double\", \"dp\", \"dp\", \"durable\", \"durable\", \"durable\", \"durable\", \"dye\", \"easily\", \"easily\", \"easily\", \"easily\", \"easy\", \"easy\", \"easy\", \"easy\", \"eat\", \"eat\", \"eat\", \"eat\", \"enjoyment\", \"entertain\", \"entertain\", \"entertain\", \"entertain\", \"especially\", \"especially\", \"especially\", \"especially\", \"exact\", \"expect\", \"expect\", \"expect\", \"expect\", \"expectation\", \"expose\", \"expose\", \"expose\", \"expose\", \"far\", \"far\", \"far\", \"far\", \"fast\", \"fast\", \"fast\", \"fast\", \"fat\", \"fat\", \"feature\", \"fetch\", \"fetch\", \"fetch\", \"fetch\", \"fill\", \"fill\", \"fill\", \"fill\", \"find\", \"find\", \"find\", \"find\", \"fit\", \"fit\", \"fit\", \"fit\", \"flash\", \"fling\", \"float\", \"float\", \"float\", \"float\", \"floor\", \"floor\", \"floor\", \"floor\", \"food\", \"food\", \"food\", \"food\", \"forward\", \"forward\", \"forward\", \"forward\", \"fox\", \"frustrating\", \"fun\", \"fun\", \"fun\", \"fun\", \"fur\", \"fur\", \"fur\", \"german\", \"german\", \"german\", \"german\", \"golden\", \"golden\", \"golden\", \"golden\", \"golf\", \"got\", \"got\", \"got\", \"happy\", \"happy\", \"happy\", \"happy\", \"hard\", \"hard\", \"hard\", \"hard\", \"harm\", \"hate\", \"hate\", \"hate\", \"hate\", \"hay\", \"hay\", \"hay\", \"healthy\", \"healthy\", \"heavy\", \"heavy\", \"heavy\", \"heavy\", \"hide\", \"hide\", \"hide\", \"hold\", \"hold\", \"hold\", \"hold\", \"hole\", \"hole\", \"hole\", \"hole\", \"honest\", \"honest\", \"honest\", \"honestly\", \"hound\", \"house\", \"house\", \"house\", \"house\", \"hrs\", \"hrs\", \"i.\", \"insane\", \"insert\", \"insert\", \"insert\", \"insert\", \"interesting\", \"irritate\", \"irritate\", \"italian\", \"italian\", \"kibble\", \"kibble\", \"kibble\", \"kibble\", \"kinda\", \"kitchen\", \"kitchen\", \"kitten\", \"kitten\", \"kitten\", \"kitten\", \"kong\", \"kong\", \"kong\", \"krinkle\", \"krinkle\", \"lab\", \"lab\", \"lab\", \"lab\", \"large\", \"large\", \"large\", \"large\", \"lazy\", \"lazy\", \"lead\", \"leave\", \"leave\", \"leave\", \"leave\", \"let\", \"let\", \"let\", \"let\", \"letter\", \"light\", \"light\", \"light\", \"light\", \"little\", \"little\", \"little\", \"little\", \"long\", \"long\", \"long\", \"long\", \"look\", \"look\", \"look\", \"look\", \"lose\", \"lose\", \"lose\", \"lose\", \"loss\", \"lot\", \"lot\", \"lot\", \"lot\", \"loves\", \"machine\", \"machine\", \"mark\", \"mark\", \"mark\", \"mark\", \"meal\", \"meal\", \"meow\", \"metal\", \"mix\", \"mix\", \"mix\", \"mix\", \"mouse\", \"mouth\", \"mouth\", \"mouth\", \"mouth\", \"muscle\", \"mutt\", \"need\", \"need\", \"need\", \"need\", \"night\", \"night\", \"night\", \"night\", \"occupy\", \"occupy\", \"occupy\", \"occupy\", \"pack\", \"pack\", \"pack\", \"pack\", \"package\", \"package\", \"package\", \"package\", \"perfect\", \"perfect\", \"perfect\", \"perfect\", \"periodically\", \"person\", \"pic\", \"pick\", \"pick\", \"pick\", \"pick\", \"picky\", \"piece\", \"piece\", \"piece\", \"piece\", \"pit\", \"pit\", \"pit\", \"pit\", \"plain\", \"plant\", \"plant\", \"plant\", \"plant\", \"plastic\", \"plastic\", \"plastic\", \"plastic\", \"play\", \"play\", \"play\", \"play\", \"pleasure\", \"plus\", \"portion\", \"positive\", \"positive\", \"pounce\", \"pounce\", \"pour\", \"preference\", \"pretty\", \"pretty\", \"pretty\", \"pretty\", \"prevent\", \"price\", \"price\", \"price\", \"price\", \"pup\", \"pup\", \"pup\", \"pup\", \"purchase\", \"purchase\", \"purchase\", \"purchase\", \"puzzle\", \"quality\", \"quality\", \"quality\", \"quality\", \"r\", \"rabbit\", \"rabbit\", \"raise\", \"reason\", \"reason\", \"reason\", \"reason\", \"ref\", \"ref\", \"ref\", \"regular\", \"regular\", \"regular\", \"regular\", \"replacement\", \"replacement\", \"replacement\", \"replacement\", \"review\", \"review\", \"review\", \"review\", \"rinse\", \"rinse\", \"rip\", \"rip\", \"rip\", \"rip\", \"roll\", \"roll\", \"roll\", \"roll\", \"rolling\", \"rolling\", \"rolling\", \"rope\", \"rope\", \"rope\", \"rope\", \"s\", \"s\", \"s\", \"s\", \"schnauzer\", \"schnauzer\", \"shame\", \"shepard\", \"shred\", \"shred\", \"shred\", \"shred\", \"sister\", \"sister\", \"size\", \"size\", \"size\", \"size\", \"slam\", \"slobber\", \"slobber\", \"slow\", \"slow\", \"small\", \"small\", \"small\", \"small\", \"smell\", \"smell\", \"smell\", \"smell\", \"snack\", \"snack\", \"sock\", \"soft\", \"soft\", \"soft\", \"soft\", \"softball\", \"sound\", \"sound\", \"sound\", \"sound\", \"sparkle\", \"squeak\", \"squeak\", \"squeak\", \"squeak\", \"squeaker\", \"squeaker\", \"squeaker\", \"squeaker\", \"squish\", \"squish\", \"start\", \"start\", \"start\", \"start\", \"strip\", \"stupid\", \"sturdy\", \"sturdy\", \"sturdy\", \"sturdy\", \"suck\", \"suck\", \"super\", \"super\", \"super\", \"super\", \"sure\", \"sure\", \"sure\", \"sure\", \"swat\", \"tab\", \"table\", \"teach\", \"teach\", \"tear\", \"tear\", \"tear\", \"tear\", \"teethe\", \"tennis\", \"tennis\", \"tennis\", \"tennis\", \"terrible\", \"terrier\", \"terrier\", \"terrier\", \"terrier\", \"test\", \"test\", \"test\", \"test\", \"thank\", \"thank\", \"thank\", \"thank\", \"thankfully\", \"thought\", \"throw\", \"throw\", \"throw\", \"throw\", \"tie\", \"tile\", \"tile\", \"tile\", \"tiny\", \"tiny\", \"tiny\", \"tiny\", \"tool\", \"tooth\", \"tooth\", \"tooth\", \"tooth\", \"tough\", \"tough\", \"tough\", \"tough\", \"track\", \"track\", \"track\", \"track\", \"training\", \"training\", \"travel\", \"try\", \"try\", \"try\", \"try\", \"tug\", \"tug\", \"tug\", \"tug\", \"turn\", \"turn\", \"turn\", \"turn\", \"turtle\", \"turtle\", \"tv\", \"unattended\", \"unattended\", \"unattended\", \"unattended\", \"unique\", \"upset\", \"upside\", \"upside\", \"use\", \"use\", \"use\", \"use\", \"value\", \"value\", \"value\", \"voice\", \"want\", \"want\", \"want\", \"want\", \"war\", \"war\", \"war\", \"war\", \"water\", \"water\", \"water\", \"water\", \"way\", \"way\", \"way\", \"way\", \"weak\", \"week\", \"week\", \"week\", \"week\", \"weight\", \"weight\", \"weight\", \"weight\", \"willing\", \"wobble\", \"wonder\", \"wonder\", \"wubba\", \"wubba\", \"yard\", \"yard\", \"yard\", \"yard\", \"yorkie\"]}, \"R\": 30, \"lambda.step\": 0.01, \"plot.opts\": {\"xlab\": \"PC1\", \"ylab\": \"PC2\"}, \"topic.order\": [3, 2, 4, 1]};\n",
       "\n",
       "function LDAvis_load_lib(url, callback){\n",
       "  var s = document.createElement('script');\n",
       "  s.src = url;\n",
       "  s.async = true;\n",
       "  s.onreadystatechange = s.onload = callback;\n",
       "  s.onerror = function(){console.warn(\"failed to load library \" + url);};\n",
       "  document.getElementsByTagName(\"head\")[0].appendChild(s);\n",
       "}\n",
       "\n",
       "if(typeof(LDAvis) !== \"undefined\"){\n",
       "   // already loaded: just create the visualization\n",
       "   !function(LDAvis){\n",
       "       new LDAvis(\"#\" + \"ldavis_el593214483584200327316952272\", ldavis_el593214483584200327316952272_data);\n",
       "   }(LDAvis);\n",
       "}else if(typeof define === \"function\" && define.amd){\n",
       "   // require.js is available: use it to load d3/LDAvis\n",
       "   require.config({paths: {d3: \"https://d3js.org/d3.v5\"}});\n",
       "   require([\"d3\"], function(d3){\n",
       "      window.d3 = d3;\n",
       "      LDAvis_load_lib(\"https://cdn.jsdelivr.net/gh/bmabey/pyLDAvis@3.3.1/pyLDAvis/js/ldavis.v3.0.0.js\", function(){\n",
       "        new LDAvis(\"#\" + \"ldavis_el593214483584200327316952272\", ldavis_el593214483584200327316952272_data);\n",
       "      });\n",
       "    });\n",
       "}else{\n",
       "    // require.js not available: dynamically load d3 & LDAvis\n",
       "    LDAvis_load_lib(\"https://d3js.org/d3.v5.js\", function(){\n",
       "         LDAvis_load_lib(\"https://cdn.jsdelivr.net/gh/bmabey/pyLDAvis@3.3.1/pyLDAvis/js/ldavis.v3.0.0.js\", function(){\n",
       "                 new LDAvis(\"#\" + \"ldavis_el593214483584200327316952272\", ldavis_el593214483584200327316952272_data);\n",
       "            })\n",
       "         });\n",
       "}\n",
       "</script>"
      ],
      "text/plain": [
       "PreparedData(topic_coordinates=              x         y  topics  cluster       Freq\n",
       "topic                                                \n",
       "2      0.069047 -0.063748       1        1  31.049346\n",
       "1      0.001270 -0.045680       2        1  28.781721\n",
       "3      0.053921  0.101340       3        1  20.891439\n",
       "0     -0.124237  0.008087       4        1  19.277493, topic_info=        Term         Freq        Total Category  logprob  loglift\n",
       "371  destroy   866.000000   866.000000  Default  30.0000  30.0000\n",
       "7    durable   442.000000   442.000000  Default  29.0000  29.0000\n",
       "162    price   314.000000   314.000000  Default  28.0000  28.0000\n",
       "276     size   759.000000   759.000000  Default  27.0000  27.0000\n",
       "370     chew  1243.000000  1243.000000  Default  26.0000  26.0000\n",
       "..       ...          ...          ...      ...      ...      ...\n",
       "236     tear    87.464138   446.285711   Topic4  -5.4287   0.0165\n",
       "406     long    92.942150   720.895142   Topic4  -5.3680  -0.4023\n",
       "52    little    87.165737   740.884847   Topic4  -5.4321  -0.4938\n",
       "108      big    82.323793   742.195892   Topic4  -5.4893  -0.5527\n",
       "386    large    79.169513   641.811063   Topic4  -5.5284  -0.4465\n",
       "\n",
       "[356 rows x 6 columns], token_table=      Topic      Freq    Term\n",
       "term                         \n",
       "2918      2  0.936233     3rd\n",
       "25        2  0.035670       =\n",
       "25        3  0.017835       =\n",
       "25        4  0.945265       =\n",
       "403       1  0.440081    able\n",
       "...     ...       ...     ...\n",
       "558       1  0.592543    yard\n",
       "558       2  0.175344    yard\n",
       "558       3  0.169298    yard\n",
       "558       4  0.066510    yard\n",
       "1010      4  0.962695  yorkie\n",
       "\n",
       "[749 rows x 3 columns], R=30, lambda_step=0.01, plot_opts={'xlab': 'PC1', 'ylab': 'PC2'}, topic_order=[3, 2, 4, 1])"
      ]
     },
     "execution_count": 48,
     "metadata": {},
     "output_type": "execute_result"
    }
   ],
   "source": [
    "pyLDAvis.enable_notebook()\n",
    "vis = pyLDAvis.gensim_models.prepare(lda_model, corpus, id2word)\n",
    "vis"
   ]
  },
  {
   "cell_type": "markdown",
   "id": "ba26170c",
   "metadata": {},
   "source": [
    "# Modeling - NMF"
   ]
  },
  {
   "cell_type": "code",
   "execution_count": 49,
   "id": "2be861f2",
   "metadata": {},
   "outputs": [
    {
     "name": "stdout",
     "output_type": "stream",
     "text": [
      "num:  2\n",
      "num:  3\n",
      "num:  4\n",
      "num:  5\n",
      "num:  6\n",
      "num:  7\n",
      "num:  8\n",
      "num:  9\n",
      "num:  10\n",
      "[0.57878, 0.64882, 0.59128, 0.57313, 0.60212, 0.60424, 0.58863, 0.55814, 0.61049]\n"
     ]
    }
   ],
   "source": [
    "dictionary = Dictionary(texts)\n",
    "corpus = [dictionary.doc2bow(text) for text in texts2]\n",
    "\n",
    "topic_nums = list(np.arange(2, 10 + 1, 1))\n",
    "\n",
    "coherence_scores = []\n",
    "\n",
    "for num in topic_nums:\n",
    "    print('num: ', num)\n",
    "    nmf = Nmf(\n",
    "        corpus=corpus,\n",
    "        num_topics=num,\n",
    "        id2word=dictionary,\n",
    "        normalize=True,\n",
    "        random_state=1234\n",
    "    )\n",
    "    \n",
    "    # Run the coherence model to get the score\n",
    "    cm = CoherenceModel(\n",
    "        model=nmf,\n",
    "        texts=texts2,\n",
    "        dictionary=dictionary,\n",
    "        coherence='c_v'\n",
    "    )\n",
    "    \n",
    "    coherence_scores.append(round(cm.get_coherence(), 5))\n",
    "    \n",
    "print(coherence_scores)"
   ]
  },
  {
   "cell_type": "code",
   "execution_count": 50,
   "id": "4e9e2c0d",
   "metadata": {},
   "outputs": [
    {
     "name": "stdout",
     "output_type": "stream",
     "text": [
      "3\n"
     ]
    }
   ],
   "source": [
    "# Get the number of topics with the highest coherence score\n",
    "scores = list(zip(topic_nums, coherence_scores))\n",
    "best_num_topics = sorted(scores, key=itemgetter(1), reverse=True)[0][0]\n",
    "\n",
    "print(best_num_topics)"
   ]
  },
  {
   "cell_type": "code",
   "execution_count": 51,
   "id": "b655b91b",
   "metadata": {},
   "outputs": [],
   "source": [
    "nmf = Nmf(\n",
    "        corpus=corpus,\n",
    "        num_topics=best_num_topics,\n",
    "        id2word=dictionary,\n",
    "        normalize=True,\n",
    "        random_state=1234\n",
    "    )"
   ]
  },
  {
   "cell_type": "code",
   "execution_count": 52,
   "id": "cb6cf32a",
   "metadata": {},
   "outputs": [
    {
     "data": {
      "text/plain": [
       "[(0,\n",
       "  '0.050*\"chew\" + 0.021*\"destroy\" + 0.014*\"throw\" + 0.013*\"durable\" + 0.013*\"hard\" + 0.012*\"tennis\" + 0.011*\"chewer\" + 0.011*\"plastic\" + 0.010*\"hold\" + 0.009*\"handle\"'),\n",
       " (1,\n",
       "  '0.030*\"food\" + 0.014*\"little\" + 0.012*\"hard\" + 0.012*\"eat\" + 0.011*\"use\" + 0.009*\"find\" + 0.008*\"way\" + 0.008*\"hole\" + 0.008*\"try\" + 0.007*\"come\"'),\n",
       " (2,\n",
       "  '0.053*\"play\" + 0.027*\"size\" + 0.026*\"small\" + 0.022*\"large\" + 0.017*\"big\" + 0.010*\"hole\" + 0.009*\"long\" + 0.009*\"roll\" + 0.009*\"come\" + 0.007*\"try\"')]"
      ]
     },
     "execution_count": 52,
     "metadata": {},
     "output_type": "execute_result"
    }
   ],
   "source": [
    "nmf.print_topics()"
   ]
  },
  {
   "cell_type": "markdown",
   "id": "5290600e",
   "metadata": {},
   "source": [
    "# Modeling - top2vec"
   ]
  },
  {
   "cell_type": "code",
   "execution_count": null,
   "id": "0493da93",
   "metadata": {},
   "outputs": [],
   "source": [
    "# import tensorflow as tf\n",
    "# import tensorflow_hub as hub\n",
    "\n",
    "# \"\"\"\"\"\"\"\"\"\"\"\"\"\"\"\"\"\"\"\"\"\"\"\"\"\"\"\"\"\"\"\"\"\"\"\"\"\"\"\"\"\"\"\"\"\"\"\"\"\"\"\"\"\"\"\"\"\n",
    "# [PhysicalDevice(name='/physical_device:GPU:0', device_type='GPU')]\n",
    "# None\n",
    "# \"\"\"\"\"\"\"\"\"\"\"\"\"\"\"\"\"\"\"\"\"\"\"\"\"\"\"\"\"\"\"\"\"\"\"\"\"\"\"\"\"\"\"\"\"\"\"\"\"\"\"\"\"\"\"\"\"\n",
    "# physical_devices = tf.config.experimental.list_physical_devices('GPU')\n",
    "# assert len(physical_devices) > 0, \"Not enough GPU hardware devices available\"\n",
    "# config = tf.config.experimental.set_memory_growth(physical_devices[0], True)\n",
    "# print(physical_devices)\n",
    "# print(config)\n",
    "\n",
    "# embed = hub.load(\"https://tfhub.dev/google/universal-sentence-encoder/4\")\n",
    "\n",
    "\n",
    "# embeddings = embed([\n",
    "#     \"The quick brown fox jumps over the lazy dog.\",\n",
    "#     \"I am a sentence for which I would like to get its embedding\"])\n",
    "  \n",
    "# print(embeddings)"
   ]
  },
  {
   "cell_type": "code",
   "execution_count": null,
   "id": "7e413b9c",
   "metadata": {},
   "outputs": [],
   "source": [
    "for i in [5000, 6000, 7000, 8000, len(interested_dta['reviewText'].tolist())]:\n",
    "    random.seed(1234)\n",
    "    print(i)\n",
    "    rr = random.sample(interested_dta['reviewText'].tolist(), i)\n",
    "    try: \n",
    "        model = Top2Vec(rr, speed=\"learn\", workers=-1, embedding_model='universal-sentence-encoder')\n",
    "    except: \n",
    "        continue"
   ]
  },
  {
   "cell_type": "code",
   "execution_count": null,
   "id": "642b2810",
   "metadata": {},
   "outputs": [],
   "source": [
    "model"
   ]
  },
  {
   "cell_type": "code",
   "execution_count": null,
   "id": "a98b5f19",
   "metadata": {},
   "outputs": [],
   "source": [
    "model.get_num_topics()\n",
    "model.topic_words"
   ]
  },
  {
   "cell_type": "markdown",
   "id": "b04250d7",
   "metadata": {},
   "source": [
    "# Modeling - BERTopic"
   ]
  },
  {
   "cell_type": "code",
   "execution_count": 22,
   "id": "e134b621",
   "metadata": {},
   "outputs": [],
   "source": [
    "from bertopic import BERTopic\n",
    "from sklearn.feature_extraction.text import CountVectorizer\n",
    "from umap import UMAP\n",
    "\n",
    "# Instantiate the vectorizer model\n",
    "vectorizer_model = CountVectorizer()\n",
    "\n",
    "# Instantiate the UMAP model\n",
    "umap_model = UMAP(n_neighbors=15, n_components=5, metric='cosine')"
   ]
  },
  {
   "cell_type": "code",
   "execution_count": 23,
   "id": "4823111f",
   "metadata": {},
   "outputs": [],
   "source": [
    "# define extra stopwords for toy data\n",
    "sw = ['toy',\n",
    " 'dog',\n",
    " 'love',\n",
    " 'cat',\n",
    " 'ball',\n",
    " 'great',\n",
    " 'buy',\n",
    " 'good',\n",
    " 'get',\n",
    " 'time',\n",
    " 'puppy',\n",
    " 'like',\n",
    " 'treat',\n",
    " 'thing',\n",
    " 'old',\n",
    " 'product',\n",
    " 'day',\n",
    " 'think',\n",
    " 'go',\n",
    " 'favorite',\n",
    " 'minute',\n",
    " 'recommend', 'month', 'know', 'year', 'pet', 'work', 'hour'\n",
    "     ]\n",
    "STOP_WORDS = list(STOP_WORDS) + sw "
   ]
  },
  {
   "cell_type": "code",
   "execution_count": 26,
   "id": "109148bb",
   "metadata": {},
   "outputs": [
    {
     "data": {
      "application/vnd.jupyter.widget-view+json": {
       "model_id": "a697586845474197b55fee6e1bc381c9",
       "version_major": 2,
       "version_minor": 0
      },
      "text/plain": [
       "Batches:   0%|          | 0/266 [00:00<?, ?it/s]"
      ]
     },
     "metadata": {},
     "output_type": "display_data"
    }
   ],
   "source": [
    "vectorizer_model = CountVectorizer(ngram_range=(1, 2), stop_words=STOP_WORDS) #bigram, remove stopwords\n",
    "docs = interested_dta['reviewText'].tolist()\n",
    "\n",
    "model = BERTopic(\n",
    "    vectorizer_model=vectorizer_model,\n",
    "    language='english', \n",
    "    calculate_probabilities=False,\n",
    "    verbose=True,\n",
    "    umap_model=umap_model)\n",
    "topics, probs = model.fit_transform(docs)"
   ]
  },
  {
   "cell_type": "code",
   "execution_count": 27,
   "id": "2e6ee8fb",
   "metadata": {},
   "outputs": [
    {
     "data": {
      "text/plain": [
       "CountVectorizer(ngram_range=(1, 2),\n",
       "                stop_words=['ours', 'either', 'elsewhere', 'seemed', 'next',\n",
       "                            'except', 'n‘t', 'here', 'whatever', 'top',\n",
       "                            'beyond', 'eight', 'ca', 'noone', 'first', 'mine',\n",
       "                            'hereby', 'nine', 'whereupon', 'whose', 'everyone',\n",
       "                            'thereupon', 'wherever', 'why', 'somewhere', 'n’t',\n",
       "                            'such', 'above', 'now', 'ten', ...])"
      ]
     },
     "execution_count": 27,
     "metadata": {},
     "output_type": "execute_result"
    }
   ],
   "source": [
    "vectorizer_model"
   ]
  },
  {
   "cell_type": "code",
   "execution_count": 28,
   "id": "52b63f85",
   "metadata": {},
   "outputs": [],
   "source": [
    "freq = model.get_topic_info()\n",
    "freq\n",
    "\n",
    "model.update_topics(docs, vectorizer_model=vectorizer_model) "
   ]
  },
  {
   "cell_type": "code",
   "execution_count": 29,
   "id": "fb6d88a4",
   "metadata": {
    "scrolled": true
   },
   "outputs": [
    {
     "data": {
      "text/html": [
       "<div>\n",
       "<style scoped>\n",
       "    .dataframe tbody tr th:only-of-type {\n",
       "        vertical-align: middle;\n",
       "    }\n",
       "\n",
       "    .dataframe tbody tr th {\n",
       "        vertical-align: top;\n",
       "    }\n",
       "\n",
       "    .dataframe thead th {\n",
       "        text-align: right;\n",
       "    }\n",
       "</style>\n",
       "<table border=\"1\" class=\"dataframe\">\n",
       "  <thead>\n",
       "    <tr style=\"text-align: right;\">\n",
       "      <th></th>\n",
       "      <th>Topic</th>\n",
       "      <th>Count</th>\n",
       "      <th>Name</th>\n",
       "    </tr>\n",
       "  </thead>\n",
       "  <tbody>\n",
       "    <tr>\n",
       "      <th>0</th>\n",
       "      <td>-1</td>\n",
       "      <td>3260</td>\n",
       "      <td>-1_loves_dogs_toys_balls</td>\n",
       "    </tr>\n",
       "    <tr>\n",
       "      <th>1</th>\n",
       "      <td>0</td>\n",
       "      <td>1157</td>\n",
       "      <td>0_cats_food_scratcher_turbo</td>\n",
       "    </tr>\n",
       "    <tr>\n",
       "      <th>2</th>\n",
       "      <td>1</td>\n",
       "      <td>463</td>\n",
       "      <td>1_treats_food_kibble_inside</td>\n",
       "    </tr>\n",
       "    <tr>\n",
       "      <th>3</th>\n",
       "      <td>2</td>\n",
       "      <td>292</td>\n",
       "      <td>2_chewer_chewed_chew_minutes</td>\n",
       "    </tr>\n",
       "    <tr>\n",
       "      <th>4</th>\n",
       "      <td>3</td>\n",
       "      <td>280</td>\n",
       "      <td>3_loves_dogs_play_yard</td>\n",
       "    </tr>\n",
       "    <tr>\n",
       "      <th>...</th>\n",
       "      <td>...</td>\n",
       "      <td>...</td>\n",
       "      <td>...</td>\n",
       "    </tr>\n",
       "    <tr>\n",
       "      <th>64</th>\n",
       "      <td>63</td>\n",
       "      <td>13</td>\n",
       "      <td>63_quality_quality loves_hopefully friend_look...</td>\n",
       "    </tr>\n",
       "    <tr>\n",
       "      <th>65</th>\n",
       "      <td>64</td>\n",
       "      <td>12</td>\n",
       "      <td>64_squeaky_hard squeaky_squeaker_plush</td>\n",
       "    </tr>\n",
       "    <tr>\n",
       "      <th>66</th>\n",
       "      <td>65</td>\n",
       "      <td>11</td>\n",
       "      <td>65_roller_holee_holee roller_holee rollers</td>\n",
       "    </tr>\n",
       "    <tr>\n",
       "      <th>67</th>\n",
       "      <td>66</td>\n",
       "      <td>11</td>\n",
       "      <td>66_wubba_wubbas_wubbie_plush version</td>\n",
       "    </tr>\n",
       "    <tr>\n",
       "      <th>68</th>\n",
       "      <td>67</td>\n",
       "      <td>10</td>\n",
       "      <td>67_cloth_lasted_minutes_knew</td>\n",
       "    </tr>\n",
       "  </tbody>\n",
       "</table>\n",
       "<p>69 rows × 3 columns</p>\n",
       "</div>"
      ],
      "text/plain": [
       "    Topic  Count                                               Name\n",
       "0      -1   3260                           -1_loves_dogs_toys_balls\n",
       "1       0   1157                        0_cats_food_scratcher_turbo\n",
       "2       1    463                        1_treats_food_kibble_inside\n",
       "3       2    292                       2_chewer_chewed_chew_minutes\n",
       "4       3    280                             3_loves_dogs_play_yard\n",
       "..    ...    ...                                                ...\n",
       "64     63     13  63_quality_quality loves_hopefully friend_look...\n",
       "65     64     12             64_squeaky_hard squeaky_squeaker_plush\n",
       "66     65     11         65_roller_holee_holee roller_holee rollers\n",
       "67     66     11               66_wubba_wubbas_wubbie_plush version\n",
       "68     67     10                       67_cloth_lasted_minutes_knew\n",
       "\n",
       "[69 rows x 3 columns]"
      ]
     },
     "execution_count": 29,
     "metadata": {},
     "output_type": "execute_result"
    }
   ],
   "source": [
    "freq = model.get_topic_info()\n",
    "freq"
   ]
  },
  {
   "cell_type": "code",
   "execution_count": 30,
   "id": "987b0433",
   "metadata": {},
   "outputs": [],
   "source": [
    "# hierarchical_topics = model.hierarchical_topics(docs)\n",
    "# model.visualize_hierarchy(hierarchical_topics=hierarchical_topics)"
   ]
  },
  {
   "cell_type": "code",
   "execution_count": 31,
   "id": "dcb3ee6f",
   "metadata": {},
   "outputs": [],
   "source": [
    "# model.visualize_barchart(n_words = 10, top_n_topics = 12)"
   ]
  },
  {
   "cell_type": "code",
   "execution_count": 32,
   "id": "21707a8f",
   "metadata": {},
   "outputs": [],
   "source": [
    "model = BERTopic(nr_topics= 'auto',   \n",
    "    vectorizer_model=vectorizer_model,\n",
    "    language='english', \n",
    "    calculate_probabilities=False,\n",
    "    verbose=True,\n",
    "    umap_model=umap_model)\n",
    "\n",
    "hdbscan_model = HDBSCAN(min_cluster_size=10, \n",
    "                        metric='euclidean', \n",
    "                        cluster_selection_method='eom', \n",
    "                        prediction_data=True, \n",
    "                        min_samples=5)\n",
    "topic_model = BERTopic(hdbscan_model=hdbscan_model, \n",
    "                       nr_topics= 'auto')\n",
    "topics, probs = topic_model.fit_transform(docs)"
   ]
  },
  {
   "cell_type": "code",
   "execution_count": 33,
   "id": "9a5061ca",
   "metadata": {},
   "outputs": [
    {
     "data": {
      "text/html": [
       "<div>\n",
       "<style scoped>\n",
       "    .dataframe tbody tr th:only-of-type {\n",
       "        vertical-align: middle;\n",
       "    }\n",
       "\n",
       "    .dataframe tbody tr th {\n",
       "        vertical-align: top;\n",
       "    }\n",
       "\n",
       "    .dataframe thead th {\n",
       "        text-align: right;\n",
       "    }\n",
       "</style>\n",
       "<table border=\"1\" class=\"dataframe\">\n",
       "  <thead>\n",
       "    <tr style=\"text-align: right;\">\n",
       "      <th></th>\n",
       "      <th>Topic</th>\n",
       "      <th>Count</th>\n",
       "      <th>Name</th>\n",
       "    </tr>\n",
       "  </thead>\n",
       "  <tbody>\n",
       "    <tr>\n",
       "      <th>0</th>\n",
       "      <td>-1</td>\n",
       "      <td>2852</td>\n",
       "      <td>-1_it_and_the_to</td>\n",
       "    </tr>\n",
       "    <tr>\n",
       "      <th>1</th>\n",
       "      <td>0</td>\n",
       "      <td>4151</td>\n",
       "      <td>0_the_to_it_and</td>\n",
       "    </tr>\n",
       "    <tr>\n",
       "      <th>2</th>\n",
       "      <td>1</td>\n",
       "      <td>198</td>\n",
       "      <td>1_squeaker_squeak_squeaky_these</td>\n",
       "    </tr>\n",
       "    <tr>\n",
       "      <th>3</th>\n",
       "      <td>2</td>\n",
       "      <td>103</td>\n",
       "      <td>2_it_noise_sounds_noises</td>\n",
       "    </tr>\n",
       "    <tr>\n",
       "      <th>4</th>\n",
       "      <td>3</td>\n",
       "      <td>100</td>\n",
       "      <td>3_price_great_store_product</td>\n",
       "    </tr>\n",
       "    <tr>\n",
       "      <th>5</th>\n",
       "      <td>4</td>\n",
       "      <td>96</td>\n",
       "      <td>4_kong_peanut_butter_and</td>\n",
       "    </tr>\n",
       "    <tr>\n",
       "      <th>6</th>\n",
       "      <td>5</td>\n",
       "      <td>82</td>\n",
       "      <td>5_smell_smells_it_chemical</td>\n",
       "    </tr>\n",
       "    <tr>\n",
       "      <th>7</th>\n",
       "      <td>6</td>\n",
       "      <td>79</td>\n",
       "      <td>6_rope_the_ball_is</td>\n",
       "    </tr>\n",
       "    <tr>\n",
       "      <th>8</th>\n",
       "      <td>7</td>\n",
       "      <td>65</td>\n",
       "      <td>7_glow_light_glows_dark</td>\n",
       "    </tr>\n",
       "    <tr>\n",
       "      <th>9</th>\n",
       "      <td>8</td>\n",
       "      <td>58</td>\n",
       "      <td>8_works_work_great_worked</td>\n",
       "    </tr>\n",
       "    <tr>\n",
       "      <th>10</th>\n",
       "      <td>9</td>\n",
       "      <td>51</td>\n",
       "      <td>9_jolly_ball_balls_my</td>\n",
       "    </tr>\n",
       "    <tr>\n",
       "      <th>11</th>\n",
       "      <td>10</td>\n",
       "      <td>46</td>\n",
       "      <td>10_hay_rabbit_bell_pigs</td>\n",
       "    </tr>\n",
       "    <tr>\n",
       "      <th>12</th>\n",
       "      <td>11</td>\n",
       "      <td>37</td>\n",
       "      <td>11_refills_refill_cats_turbo</td>\n",
       "    </tr>\n",
       "    <tr>\n",
       "      <th>13</th>\n",
       "      <td>12</td>\n",
       "      <td>32</td>\n",
       "      <td>12_color_green_colors_blue</td>\n",
       "    </tr>\n",
       "    <tr>\n",
       "      <th>14</th>\n",
       "      <td>13</td>\n",
       "      <td>30</td>\n",
       "      <td>13_hamster_syrian_run_hamsters</td>\n",
       "    </tr>\n",
       "    <tr>\n",
       "      <th>15</th>\n",
       "      <td>14</td>\n",
       "      <td>29</td>\n",
       "      <td>14_busy_keeps_occupied_long</td>\n",
       "    </tr>\n",
       "    <tr>\n",
       "      <th>16</th>\n",
       "      <td>15</td>\n",
       "      <td>27</td>\n",
       "      <td>15_cute_care_hate_it</td>\n",
       "    </tr>\n",
       "    <tr>\n",
       "      <th>17</th>\n",
       "      <td>16</td>\n",
       "      <td>25</td>\n",
       "      <td>16_lab_loves_labs_toy</td>\n",
       "    </tr>\n",
       "    <tr>\n",
       "      <th>18</th>\n",
       "      <td>17</td>\n",
       "      <td>25</td>\n",
       "      <td>17_tank_fish_moss_algae</td>\n",
       "    </tr>\n",
       "    <tr>\n",
       "      <th>19</th>\n",
       "      <td>18</td>\n",
       "      <td>23</td>\n",
       "      <td>18_batteries_battery_it_dead</td>\n",
       "    </tr>\n",
       "    <tr>\n",
       "      <th>20</th>\n",
       "      <td>19</td>\n",
       "      <td>22</td>\n",
       "      <td>19_indestructible_ball_is_it</td>\n",
       "    </tr>\n",
       "    <tr>\n",
       "      <th>21</th>\n",
       "      <td>20</td>\n",
       "      <td>21</td>\n",
       "      <td>20_nice_thanks_thank_okay</td>\n",
       "    </tr>\n",
       "    <tr>\n",
       "      <th>22</th>\n",
       "      <td>21</td>\n",
       "      <td>21</td>\n",
       "      <td>21_described_exactly_expected_as</td>\n",
       "    </tr>\n",
       "    <tr>\n",
       "      <th>23</th>\n",
       "      <td>22</td>\n",
       "      <td>21</td>\n",
       "      <td>22_tough_nature_hard_very</td>\n",
       "    </tr>\n",
       "    <tr>\n",
       "      <th>24</th>\n",
       "      <td>23</td>\n",
       "      <td>21</td>\n",
       "      <td>23_fast_shipping_delivery_described</td>\n",
       "    </tr>\n",
       "    <tr>\n",
       "      <th>25</th>\n",
       "      <td>24</td>\n",
       "      <td>21</td>\n",
       "      <td>24_indestructible_mid_it_this</td>\n",
       "    </tr>\n",
       "    <tr>\n",
       "      <th>26</th>\n",
       "      <td>25</td>\n",
       "      <td>19</td>\n",
       "      <td>25_rats_rat_size_paris</td>\n",
       "    </tr>\n",
       "    <tr>\n",
       "      <th>27</th>\n",
       "      <td>26</td>\n",
       "      <td>18</td>\n",
       "      <td>26_stars_because_it_reason</td>\n",
       "    </tr>\n",
       "    <tr>\n",
       "      <th>28</th>\n",
       "      <td>27</td>\n",
       "      <td>18</td>\n",
       "      <td>27_crinkle_these_crinkly_crinkles</td>\n",
       "    </tr>\n",
       "    <tr>\n",
       "      <th>29</th>\n",
       "      <td>28</td>\n",
       "      <td>17</td>\n",
       "      <td>28_boxer_boxers_large_durable</td>\n",
       "    </tr>\n",
       "    <tr>\n",
       "      <th>30</th>\n",
       "      <td>29</td>\n",
       "      <td>17</td>\n",
       "      <td>29_bounce_bounces_nice_house</td>\n",
       "    </tr>\n",
       "    <tr>\n",
       "      <th>31</th>\n",
       "      <td>30</td>\n",
       "      <td>16</td>\n",
       "      <td>30_quality_good_qualitysize_excellent</td>\n",
       "    </tr>\n",
       "    <tr>\n",
       "      <th>32</th>\n",
       "      <td>31</td>\n",
       "      <td>15</td>\n",
       "      <td>31_gift_present_christmas_friends</td>\n",
       "    </tr>\n",
       "    <tr>\n",
       "      <th>33</th>\n",
       "      <td>32</td>\n",
       "      <td>15</td>\n",
       "      <td>32_wubba_wubbas_the_wubbie</td>\n",
       "    </tr>\n",
       "    <tr>\n",
       "      <th>34</th>\n",
       "      <td>33</td>\n",
       "      <td>15</td>\n",
       "      <td>33_quality_good_doesnt_labs</td>\n",
       "    </tr>\n",
       "    <tr>\n",
       "      <th>35</th>\n",
       "      <td>34</td>\n",
       "      <td>15</td>\n",
       "      <td>34_hole_ball_the_there</td>\n",
       "    </tr>\n",
       "    <tr>\n",
       "      <th>36</th>\n",
       "      <td>35</td>\n",
       "      <td>14</td>\n",
       "      <td>35_kitties_love_kits_continually</td>\n",
       "    </tr>\n",
       "    <tr>\n",
       "      <th>37</th>\n",
       "      <td>36</td>\n",
       "      <td>14</td>\n",
       "      <td>36_chuckit_chuck_launcher_chuckits</td>\n",
       "    </tr>\n",
       "    <tr>\n",
       "      <th>38</th>\n",
       "      <td>37</td>\n",
       "      <td>14</td>\n",
       "      <td>37_fun_lots_bpas_buster</td>\n",
       "    </tr>\n",
       "    <tr>\n",
       "      <th>39</th>\n",
       "      <td>38</td>\n",
       "      <td>14</td>\n",
       "      <td>38_excellent_perfect_enjoyed_always</td>\n",
       "    </tr>\n",
       "    <tr>\n",
       "      <th>40</th>\n",
       "      <td>39</td>\n",
       "      <td>12</td>\n",
       "      <td>39_entertained_bored_dog_about</td>\n",
       "    </tr>\n",
       "    <tr>\n",
       "      <th>41</th>\n",
       "      <td>40</td>\n",
       "      <td>12</td>\n",
       "      <td>40_floats_water_pool_it</td>\n",
       "    </tr>\n",
       "    <tr>\n",
       "      <th>42</th>\n",
       "      <td>41</td>\n",
       "      <td>11</td>\n",
       "      <td>41_stuffing_fabric_sew_strips</td>\n",
       "    </tr>\n",
       "    <tr>\n",
       "      <th>43</th>\n",
       "      <td>42</td>\n",
       "      <td>10</td>\n",
       "      <td>42_ferrets_ferret_eye_without</td>\n",
       "    </tr>\n",
       "  </tbody>\n",
       "</table>\n",
       "</div>"
      ],
      "text/plain": [
       "    Topic  Count                                   Name\n",
       "0      -1   2852                       -1_it_and_the_to\n",
       "1       0   4151                        0_the_to_it_and\n",
       "2       1    198        1_squeaker_squeak_squeaky_these\n",
       "3       2    103               2_it_noise_sounds_noises\n",
       "4       3    100            3_price_great_store_product\n",
       "5       4     96               4_kong_peanut_butter_and\n",
       "6       5     82             5_smell_smells_it_chemical\n",
       "7       6     79                     6_rope_the_ball_is\n",
       "8       7     65                7_glow_light_glows_dark\n",
       "9       8     58              8_works_work_great_worked\n",
       "10      9     51                  9_jolly_ball_balls_my\n",
       "11     10     46                10_hay_rabbit_bell_pigs\n",
       "12     11     37           11_refills_refill_cats_turbo\n",
       "13     12     32             12_color_green_colors_blue\n",
       "14     13     30         13_hamster_syrian_run_hamsters\n",
       "15     14     29            14_busy_keeps_occupied_long\n",
       "16     15     27                   15_cute_care_hate_it\n",
       "17     16     25                  16_lab_loves_labs_toy\n",
       "18     17     25                17_tank_fish_moss_algae\n",
       "19     18     23           18_batteries_battery_it_dead\n",
       "20     19     22           19_indestructible_ball_is_it\n",
       "21     20     21              20_nice_thanks_thank_okay\n",
       "22     21     21       21_described_exactly_expected_as\n",
       "23     22     21              22_tough_nature_hard_very\n",
       "24     23     21    23_fast_shipping_delivery_described\n",
       "25     24     21          24_indestructible_mid_it_this\n",
       "26     25     19                 25_rats_rat_size_paris\n",
       "27     26     18             26_stars_because_it_reason\n",
       "28     27     18      27_crinkle_these_crinkly_crinkles\n",
       "29     28     17          28_boxer_boxers_large_durable\n",
       "30     29     17           29_bounce_bounces_nice_house\n",
       "31     30     16  30_quality_good_qualitysize_excellent\n",
       "32     31     15      31_gift_present_christmas_friends\n",
       "33     32     15             32_wubba_wubbas_the_wubbie\n",
       "34     33     15            33_quality_good_doesnt_labs\n",
       "35     34     15                 34_hole_ball_the_there\n",
       "36     35     14       35_kitties_love_kits_continually\n",
       "37     36     14     36_chuckit_chuck_launcher_chuckits\n",
       "38     37     14                37_fun_lots_bpas_buster\n",
       "39     38     14    38_excellent_perfect_enjoyed_always\n",
       "40     39     12         39_entertained_bored_dog_about\n",
       "41     40     12                40_floats_water_pool_it\n",
       "42     41     11          41_stuffing_fabric_sew_strips\n",
       "43     42     10          42_ferrets_ferret_eye_without"
      ]
     },
     "execution_count": 33,
     "metadata": {},
     "output_type": "execute_result"
    }
   ],
   "source": [
    "# Further reduce topics\n",
    "freq = topic_model.get_topic_info()\n",
    "freq"
   ]
  },
  {
   "cell_type": "code",
   "execution_count": 34,
   "id": "4e21119b",
   "metadata": {},
   "outputs": [],
   "source": [
    "topic_model.update_topics(docs, vectorizer_model=vectorizer_model) \n",
    "freq = topic_model.get_topic_info()"
   ]
  },
  {
   "cell_type": "code",
   "execution_count": 35,
   "id": "7704d2a3",
   "metadata": {},
   "outputs": [
    {
     "data": {
      "text/html": [
       "<div>\n",
       "<style scoped>\n",
       "    .dataframe tbody tr th:only-of-type {\n",
       "        vertical-align: middle;\n",
       "    }\n",
       "\n",
       "    .dataframe tbody tr th {\n",
       "        vertical-align: top;\n",
       "    }\n",
       "\n",
       "    .dataframe thead th {\n",
       "        text-align: right;\n",
       "    }\n",
       "</style>\n",
       "<table border=\"1\" class=\"dataframe\">\n",
       "  <thead>\n",
       "    <tr style=\"text-align: right;\">\n",
       "      <th></th>\n",
       "      <th>Topic</th>\n",
       "      <th>Count</th>\n",
       "      <th>Name</th>\n",
       "    </tr>\n",
       "  </thead>\n",
       "  <tbody>\n",
       "    <tr>\n",
       "      <th>0</th>\n",
       "      <td>-1</td>\n",
       "      <td>2852</td>\n",
       "      <td>-1_loves_dogs_toys_balls</td>\n",
       "    </tr>\n",
       "    <tr>\n",
       "      <th>1</th>\n",
       "      <td>0</td>\n",
       "      <td>4151</td>\n",
       "      <td>0_food_balls_loves_treats</td>\n",
       "    </tr>\n",
       "    <tr>\n",
       "      <th>2</th>\n",
       "      <td>1</td>\n",
       "      <td>198</td>\n",
       "      <td>1_squeaker_squeak_squeaky_loves</td>\n",
       "    </tr>\n",
       "    <tr>\n",
       "      <th>3</th>\n",
       "      <td>2</td>\n",
       "      <td>103</td>\n",
       "      <td>2_noise_sounds_noises_sound</td>\n",
       "    </tr>\n",
       "    <tr>\n",
       "      <th>4</th>\n",
       "      <td>3</td>\n",
       "      <td>100</td>\n",
       "      <td>3_price_store_deal_excellent</td>\n",
       "    </tr>\n",
       "  </tbody>\n",
       "</table>\n",
       "</div>"
      ],
      "text/plain": [
       "   Topic  Count                             Name\n",
       "0     -1   2852         -1_loves_dogs_toys_balls\n",
       "1      0   4151        0_food_balls_loves_treats\n",
       "2      1    198  1_squeaker_squeak_squeaky_loves\n",
       "3      2    103      2_noise_sounds_noises_sound\n",
       "4      3    100     3_price_store_deal_excellent"
      ]
     },
     "execution_count": 35,
     "metadata": {},
     "output_type": "execute_result"
    }
   ],
   "source": [
    "freq.head()"
   ]
  },
  {
   "cell_type": "code",
   "execution_count": null,
   "id": "98649528",
   "metadata": {},
   "outputs": [],
   "source": [
    "topic_model.visualize_barchart(n_words = 10, top_n_topics = 10)"
   ]
  },
  {
   "cell_type": "code",
   "execution_count": null,
   "id": "81153eea",
   "metadata": {},
   "outputs": [],
   "source": [
    "# [i[0].strip('\\\"') for i in model.get_topic(9)]"
   ]
  },
  {
   "cell_type": "code",
   "execution_count": null,
   "id": "c8c13132",
   "metadata": {},
   "outputs": [],
   "source": [
    "# topic_keywords = model.get_topic_info()\n",
    "# topic_keywords"
   ]
  },
  {
   "cell_type": "code",
   "execution_count": null,
   "id": "4ce53a79",
   "metadata": {},
   "outputs": [],
   "source": [
    "# cleaned_docs = topic_model._preprocess_text(docs)"
   ]
  },
  {
   "cell_type": "code",
   "execution_count": null,
   "id": "3b0c7e61",
   "metadata": {},
   "outputs": [],
   "source": [
    "from bertopic import BERTopic\n",
    "import gensim.corpora as corpora\n",
    "from gensim.models.coherencemodel import CoherenceModel\n",
    "\n",
    "\n",
    "cleaned_docs = topic_model._preprocess_text(docs)\n",
    "vectorizer = topic_model.vectorizer_model\n",
    "analyzer = vectorizer.build_analyzer()\n",
    "tokens = [analyzer(doc) for doc in cleaned_docs]\n",
    "dictionary = corpora.Dictionary(tokens)\n",
    "corpus = [dictionary.doc2bow(token) for token in tokens]\n",
    "topics = topic_model.get_topics()\n",
    "topics.pop(-1, None)\n",
    "topic_words = [\n",
    "[word for word, _ in topic_model.get_topic(topic) if word != \"\"] for topic in topics\n",
    "]\n",
    "topic_words = [[words for words, _ in topic_model.get_topic(topic)] \n",
    "        for topic in range(len(set(topics))-1)][:10]\n",
    "\n",
    "# Evaluate\n",
    "coherence_model = CoherenceModel(topics=topic_words, \n",
    "                          texts=tokens, \n",
    "                          corpus=corpus,\n",
    "                          dictionary=dictionary, \n",
    "                          coherence='c_v')\n",
    "coherence = coherence_model.get_coherence()\n"
   ]
  },
  {
   "cell_type": "code",
   "execution_count": null,
   "id": "f48f3db7",
   "metadata": {},
   "outputs": [],
   "source": [
    "coherence"
   ]
  }
 ],
 "metadata": {
  "kernelspec": {
   "display_name": "Python 3 (ipykernel)",
   "language": "python",
   "name": "python3"
  },
  "language_info": {
   "codemirror_mode": {
    "name": "ipython",
    "version": 3
   },
   "file_extension": ".py",
   "mimetype": "text/x-python",
   "name": "python",
   "nbconvert_exporter": "python",
   "pygments_lexer": "ipython3",
   "version": "3.9.12"
  }
 },
 "nbformat": 4,
 "nbformat_minor": 5
}
